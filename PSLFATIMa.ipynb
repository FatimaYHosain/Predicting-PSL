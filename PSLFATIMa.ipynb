{
  "cells": [
    {
      "cell_type": "markdown",
      "source": [
        " # **PSL WINNING PRESICTION**\n",
        "\n",
        "###The Pakistan Super League (PSL) is a T20 cricket league that attracts top players worldwide. Due to the numerous aspects that go into a teams success, it can be difficult to forecast which team will win each match. This project aims to create a model that, using past performance data, can forecast which side will win each PSL match."
      ],
      "metadata": {
        "id": "Zytw0DBEGJlj"
      },
      "id": "Zytw0DBEGJlj"
    },
    {
      "cell_type": "markdown",
      "id": "invisible-hammer",
      "metadata": {
        "execution": {
          "iopub.execute_input": "2021-05-30T07:33:25.823624Z",
          "iopub.status.busy": "2021-05-30T07:33:25.823243Z",
          "iopub.status.idle": "2021-05-30T07:33:25.827785Z",
          "shell.execute_reply": "2021-05-30T07:33:25.827022Z",
          "shell.execute_reply.started": "2021-05-30T07:33:25.823536Z"
        },
        "papermill": {
          "duration": 0.04221,
          "end_time": "2021-06-25T21:16:58.843484",
          "exception": false,
          "start_time": "2021-06-25T21:16:58.801274",
          "status": "completed"
        },
        "tags": [],
        "id": "invisible-hammer"
      },
      "source": [
        "## **Importing Libraries**"
      ]
    },
    {
      "cell_type": "code",
      "execution_count": 1,
      "id": "honey-warren",
      "metadata": {
        "_cell_guid": "b1076dfc-b9ad-4769-8c92-a6c4dae69d19",
        "_uuid": "8f2839f25d086af736a60e9eeb907d3b93b6e0e5",
        "execution": {
          "iopub.execute_input": "2021-06-25T21:16:58.941363Z",
          "iopub.status.busy": "2021-06-25T21:16:58.940560Z",
          "iopub.status.idle": "2021-06-25T21:17:02.764403Z",
          "shell.execute_reply": "2021-06-25T21:17:02.765113Z",
          "shell.execute_reply.started": "2021-06-05T14:30:41.500232Z"
        },
        "papermill": {
          "duration": 3.87998,
          "end_time": "2021-06-25T21:17:02.765471",
          "exception": false,
          "start_time": "2021-06-25T21:16:58.885491",
          "status": "completed"
        },
        "tags": [],
        "colab": {
          "base_uri": "https://localhost:8080/",
          "height": 17
        },
        "id": "honey-warren",
        "outputId": "04c464aa-d973-48ea-8c83-abb1f4f778c6"
      },
      "outputs": [
        {
          "output_type": "display_data",
          "data": {
            "text/html": [
              "        <script type=\"text/javascript\">\n",
              "        window.PlotlyConfig = {MathJaxConfig: 'local'};\n",
              "        if (window.MathJax && window.MathJax.Hub && window.MathJax.Hub.Config) {window.MathJax.Hub.Config({SVG: {font: \"STIX-Web\"}});}\n",
              "        if (typeof require !== 'undefined') {\n",
              "        require.undef(\"plotly\");\n",
              "        requirejs.config({\n",
              "            paths: {\n",
              "                'plotly': ['https://cdn.plot.ly/plotly-2.18.2.min']\n",
              "            }\n",
              "        });\n",
              "        require(['plotly'], function(Plotly) {\n",
              "            window._Plotly = Plotly;\n",
              "        });\n",
              "        }\n",
              "        </script>\n",
              "        "
            ]
          },
          "metadata": {}
        }
      ],
      "source": [
        "import pandas as pd # data processing, CSV file I/O (e.g. pd.read_csv)\n",
        "import numpy as np # linear algebra,numerical operations\n",
        "import math #basic mathematical functions\n",
        "from sklearn import svm #Support Vector Machine modeling\n",
        "from sklearn.model_selection import train_test_split #splitting data into training and testing sets\n",
        "from sklearn.ensemble import RandomForestClassifier # Random Forest modeling\n",
        "import xgboost# Extreme Gradient Boosting modeling\n",
        "from sklearn.metrics import accuracy_score, confusion_matrix, classification_report #evaluating model performance\n",
        "from sklearn.model_selection import RepeatedStratifiedKFold # cross-validation\n",
        "import time #timing model fitting and evaluation\n",
        "from sklearn.model_selection import cross_val_score #cross-validation of models\n",
        "import joblib #oading models\n",
        "\n",
        "# data visualization(for EDA)\n",
        "import matplotlib.pyplot as plt # basic visualization\n",
        "import seaborn as sns #more advanced visualization\n",
        "%matplotlib inline\n",
        "plt.style.use('ggplot')\n",
        "sns.set(color_codes=True)\n",
        "import plotly.express as px #nteractive visualization\n",
        "import cufflinks as cf#nteractive visualization\n",
        "cf.go_offline()\n",
        "cf.set_config_file(offline=False, world_readable=True)\n",
        "\n",
        "#ignore warnings\n",
        "import warnings\n",
        "warnings.filterwarnings('ignore')"
      ]
    },
    {
      "cell_type": "markdown",
      "id": "differential-murray",
      "metadata": {
        "papermill": {
          "duration": 0.04252,
          "end_time": "2021-06-25T21:17:02.851537",
          "exception": false,
          "start_time": "2021-06-25T21:17:02.809017",
          "status": "completed"
        },
        "tags": [],
        "id": "differential-murray"
      },
      "source": [
        "\n",
        "# **Loading and Importing Data**"
      ]
    },
    {
      "cell_type": "code",
      "execution_count": 2,
      "id": "danish-failure",
      "metadata": {
        "execution": {
          "iopub.execute_input": "2021-06-25T21:17:02.938272Z",
          "iopub.status.busy": "2021-06-25T21:17:02.937548Z",
          "iopub.status.idle": "2021-06-25T21:17:03.058514Z",
          "shell.execute_reply": "2021-06-25T21:17:03.057952Z",
          "shell.execute_reply.started": "2021-06-05T14:30:41.539922Z"
        },
        "papermill": {
          "duration": 0.165154,
          "end_time": "2021-06-25T21:17:03.058639",
          "exception": false,
          "start_time": "2021-06-25T21:17:02.893485",
          "status": "completed"
        },
        "tags": [],
        "colab": {
          "base_uri": "https://localhost:8080/",
          "height": 357
        },
        "id": "danish-failure",
        "outputId": "668279cf-9057-4c3e-84a5-5c374511679e"
      },
      "outputs": [
        {
          "output_type": "execute_result",
          "data": {
            "text/plain": [
              "   psl_year  match_number            team_1             team_2  inning  over  \\\n",
              "0      2016             1  Islamabad United  Quetta Gladiators       1     1   \n",
              "1      2016             1  Islamabad United  Quetta Gladiators       1     1   \n",
              "2      2016             1  Islamabad United  Quetta Gladiators       1     1   \n",
              "3      2016             1  Islamabad United  Quetta Gladiators       1     1   \n",
              "4      2016             1  Islamabad United  Quetta Gladiators       1     1   \n",
              "\n",
              "   ball  runs  total_runs  wickets  is_four  is_six  is_wicket  wicket  \\\n",
              "0     1     0           0        0    False   False      False     NaN   \n",
              "1     2     0           0        0    False   False      False     NaN   \n",
              "2     3     0           0        0    False   False      False     NaN   \n",
              "3     4     0           0        0    False   False      False     NaN   \n",
              "4     5     0           0        0    False   False      False     NaN   \n",
              "\n",
              "  wicket_text      result  \n",
              "0         NaN  Gladiators  \n",
              "1         NaN  Gladiators  \n",
              "2         NaN  Gladiators  \n",
              "3         NaN  Gladiators  \n",
              "4         NaN  Gladiators  "
            ],
            "text/html": [
              "\n",
              "  <div id=\"df-4403584f-2db0-4608-a06c-aa8c70cbd94e\">\n",
              "    <div class=\"colab-df-container\">\n",
              "      <div>\n",
              "<style scoped>\n",
              "    .dataframe tbody tr th:only-of-type {\n",
              "        vertical-align: middle;\n",
              "    }\n",
              "\n",
              "    .dataframe tbody tr th {\n",
              "        vertical-align: top;\n",
              "    }\n",
              "\n",
              "    .dataframe thead th {\n",
              "        text-align: right;\n",
              "    }\n",
              "</style>\n",
              "<table border=\"1\" class=\"dataframe\">\n",
              "  <thead>\n",
              "    <tr style=\"text-align: right;\">\n",
              "      <th></th>\n",
              "      <th>psl_year</th>\n",
              "      <th>match_number</th>\n",
              "      <th>team_1</th>\n",
              "      <th>team_2</th>\n",
              "      <th>inning</th>\n",
              "      <th>over</th>\n",
              "      <th>ball</th>\n",
              "      <th>runs</th>\n",
              "      <th>total_runs</th>\n",
              "      <th>wickets</th>\n",
              "      <th>is_four</th>\n",
              "      <th>is_six</th>\n",
              "      <th>is_wicket</th>\n",
              "      <th>wicket</th>\n",
              "      <th>wicket_text</th>\n",
              "      <th>result</th>\n",
              "    </tr>\n",
              "  </thead>\n",
              "  <tbody>\n",
              "    <tr>\n",
              "      <th>0</th>\n",
              "      <td>2016</td>\n",
              "      <td>1</td>\n",
              "      <td>Islamabad United</td>\n",
              "      <td>Quetta Gladiators</td>\n",
              "      <td>1</td>\n",
              "      <td>1</td>\n",
              "      <td>1</td>\n",
              "      <td>0</td>\n",
              "      <td>0</td>\n",
              "      <td>0</td>\n",
              "      <td>False</td>\n",
              "      <td>False</td>\n",
              "      <td>False</td>\n",
              "      <td>NaN</td>\n",
              "      <td>NaN</td>\n",
              "      <td>Gladiators</td>\n",
              "    </tr>\n",
              "    <tr>\n",
              "      <th>1</th>\n",
              "      <td>2016</td>\n",
              "      <td>1</td>\n",
              "      <td>Islamabad United</td>\n",
              "      <td>Quetta Gladiators</td>\n",
              "      <td>1</td>\n",
              "      <td>1</td>\n",
              "      <td>2</td>\n",
              "      <td>0</td>\n",
              "      <td>0</td>\n",
              "      <td>0</td>\n",
              "      <td>False</td>\n",
              "      <td>False</td>\n",
              "      <td>False</td>\n",
              "      <td>NaN</td>\n",
              "      <td>NaN</td>\n",
              "      <td>Gladiators</td>\n",
              "    </tr>\n",
              "    <tr>\n",
              "      <th>2</th>\n",
              "      <td>2016</td>\n",
              "      <td>1</td>\n",
              "      <td>Islamabad United</td>\n",
              "      <td>Quetta Gladiators</td>\n",
              "      <td>1</td>\n",
              "      <td>1</td>\n",
              "      <td>3</td>\n",
              "      <td>0</td>\n",
              "      <td>0</td>\n",
              "      <td>0</td>\n",
              "      <td>False</td>\n",
              "      <td>False</td>\n",
              "      <td>False</td>\n",
              "      <td>NaN</td>\n",
              "      <td>NaN</td>\n",
              "      <td>Gladiators</td>\n",
              "    </tr>\n",
              "    <tr>\n",
              "      <th>3</th>\n",
              "      <td>2016</td>\n",
              "      <td>1</td>\n",
              "      <td>Islamabad United</td>\n",
              "      <td>Quetta Gladiators</td>\n",
              "      <td>1</td>\n",
              "      <td>1</td>\n",
              "      <td>4</td>\n",
              "      <td>0</td>\n",
              "      <td>0</td>\n",
              "      <td>0</td>\n",
              "      <td>False</td>\n",
              "      <td>False</td>\n",
              "      <td>False</td>\n",
              "      <td>NaN</td>\n",
              "      <td>NaN</td>\n",
              "      <td>Gladiators</td>\n",
              "    </tr>\n",
              "    <tr>\n",
              "      <th>4</th>\n",
              "      <td>2016</td>\n",
              "      <td>1</td>\n",
              "      <td>Islamabad United</td>\n",
              "      <td>Quetta Gladiators</td>\n",
              "      <td>1</td>\n",
              "      <td>1</td>\n",
              "      <td>5</td>\n",
              "      <td>0</td>\n",
              "      <td>0</td>\n",
              "      <td>0</td>\n",
              "      <td>False</td>\n",
              "      <td>False</td>\n",
              "      <td>False</td>\n",
              "      <td>NaN</td>\n",
              "      <td>NaN</td>\n",
              "      <td>Gladiators</td>\n",
              "    </tr>\n",
              "  </tbody>\n",
              "</table>\n",
              "</div>\n",
              "      <button class=\"colab-df-convert\" onclick=\"convertToInteractive('df-4403584f-2db0-4608-a06c-aa8c70cbd94e')\"\n",
              "              title=\"Convert this dataframe to an interactive table.\"\n",
              "              style=\"display:none;\">\n",
              "        \n",
              "  <svg xmlns=\"http://www.w3.org/2000/svg\" height=\"24px\"viewBox=\"0 0 24 24\"\n",
              "       width=\"24px\">\n",
              "    <path d=\"M0 0h24v24H0V0z\" fill=\"none\"/>\n",
              "    <path d=\"M18.56 5.44l.94 2.06.94-2.06 2.06-.94-2.06-.94-.94-2.06-.94 2.06-2.06.94zm-11 1L8.5 8.5l.94-2.06 2.06-.94-2.06-.94L8.5 2.5l-.94 2.06-2.06.94zm10 10l.94 2.06.94-2.06 2.06-.94-2.06-.94-.94-2.06-.94 2.06-2.06.94z\"/><path d=\"M17.41 7.96l-1.37-1.37c-.4-.4-.92-.59-1.43-.59-.52 0-1.04.2-1.43.59L10.3 9.45l-7.72 7.72c-.78.78-.78 2.05 0 2.83L4 21.41c.39.39.9.59 1.41.59.51 0 1.02-.2 1.41-.59l7.78-7.78 2.81-2.81c.8-.78.8-2.07 0-2.86zM5.41 20L4 18.59l7.72-7.72 1.47 1.35L5.41 20z\"/>\n",
              "  </svg>\n",
              "      </button>\n",
              "      \n",
              "  <style>\n",
              "    .colab-df-container {\n",
              "      display:flex;\n",
              "      flex-wrap:wrap;\n",
              "      gap: 12px;\n",
              "    }\n",
              "\n",
              "    .colab-df-convert {\n",
              "      background-color: #E8F0FE;\n",
              "      border: none;\n",
              "      border-radius: 50%;\n",
              "      cursor: pointer;\n",
              "      display: none;\n",
              "      fill: #1967D2;\n",
              "      height: 32px;\n",
              "      padding: 0 0 0 0;\n",
              "      width: 32px;\n",
              "    }\n",
              "\n",
              "    .colab-df-convert:hover {\n",
              "      background-color: #E2EBFA;\n",
              "      box-shadow: 0px 1px 2px rgba(60, 64, 67, 0.3), 0px 1px 3px 1px rgba(60, 64, 67, 0.15);\n",
              "      fill: #174EA6;\n",
              "    }\n",
              "\n",
              "    [theme=dark] .colab-df-convert {\n",
              "      background-color: #3B4455;\n",
              "      fill: #D2E3FC;\n",
              "    }\n",
              "\n",
              "    [theme=dark] .colab-df-convert:hover {\n",
              "      background-color: #434B5C;\n",
              "      box-shadow: 0px 1px 3px 1px rgba(0, 0, 0, 0.15);\n",
              "      filter: drop-shadow(0px 1px 2px rgba(0, 0, 0, 0.3));\n",
              "      fill: #FFFFFF;\n",
              "    }\n",
              "  </style>\n",
              "\n",
              "      <script>\n",
              "        const buttonEl =\n",
              "          document.querySelector('#df-4403584f-2db0-4608-a06c-aa8c70cbd94e button.colab-df-convert');\n",
              "        buttonEl.style.display =\n",
              "          google.colab.kernel.accessAllowed ? 'block' : 'none';\n",
              "\n",
              "        async function convertToInteractive(key) {\n",
              "          const element = document.querySelector('#df-4403584f-2db0-4608-a06c-aa8c70cbd94e');\n",
              "          const dataTable =\n",
              "            await google.colab.kernel.invokeFunction('convertToInteractive',\n",
              "                                                     [key], {});\n",
              "          if (!dataTable) return;\n",
              "\n",
              "          const docLinkHtml = 'Like what you see? Visit the ' +\n",
              "            '<a target=\"_blank\" href=https://colab.research.google.com/notebooks/data_table.ipynb>data table notebook</a>'\n",
              "            + ' to learn more about interactive tables.';\n",
              "          element.innerHTML = '';\n",
              "          dataTable['output_type'] = 'display_data';\n",
              "          await google.colab.output.renderOutput(dataTable, element);\n",
              "          const docLink = document.createElement('div');\n",
              "          docLink.innerHTML = docLinkHtml;\n",
              "          element.appendChild(docLink);\n",
              "        }\n",
              "      </script>\n",
              "    </div>\n",
              "  </div>\n",
              "  "
            ]
          },
          "metadata": {},
          "execution_count": 2
        }
      ],
      "source": [
        "df = pd.read_csv('/content/psl_formated.csv')\n",
        "\n",
        "\n",
        "#df = pd.read_csv('/content/players.csv')\n",
        "\n",
        "#df = pd.read_csv('/content/batting.csv')\n",
        "#df = pd.read_csv('/content/bowling.csv')\n",
        "\n",
        "#df = pd.read_csv('/content/points.csv')\n",
        "#df = pd.read_csv('/content/matches.csv' )\n",
        "\n",
        "\n",
        "\n",
        "df.head()\n",
        "\n"
      ]
    },
    {
      "cell_type": "markdown",
      "source": [
        "## **Columns**"
      ],
      "metadata": {
        "id": "QguLqHZm7CeD"
      },
      "id": "QguLqHZm7CeD"
    },
    {
      "cell_type": "code",
      "source": [
        "df.columns\n"
      ],
      "metadata": {
        "colab": {
          "base_uri": "https://localhost:8080/"
        },
        "id": "xvQKeSaej-bb",
        "outputId": "caad91ad-e68f-4b7f-c128-bd6dbf224a17"
      },
      "id": "xvQKeSaej-bb",
      "execution_count": 3,
      "outputs": [
        {
          "output_type": "execute_result",
          "data": {
            "text/plain": [
              "Index(['psl_year', 'match_number', 'team_1', 'team_2', 'inning', 'over',\n",
              "       'ball', 'runs', 'total_runs', 'wickets', 'is_four', 'is_six',\n",
              "       'is_wicket', 'wicket', 'wicket_text', 'result'],\n",
              "      dtype='object')"
            ]
          },
          "metadata": {},
          "execution_count": 3
        }
      ]
    },
    {
      "cell_type": "markdown",
      "id": "enhanced-muslim",
      "metadata": {
        "papermill": {
          "duration": 0.042919,
          "end_time": "2021-06-25T21:17:03.144817",
          "exception": false,
          "start_time": "2021-06-25T21:17:03.101898",
          "status": "completed"
        },
        "tags": [],
        "id": "enhanced-muslim"
      },
      "source": [
        "# **Data preprocessing (Cleaning)**\n"
      ]
    },
    {
      "cell_type": "code",
      "execution_count": 4,
      "id": "heard-reynolds",
      "metadata": {
        "execution": {
          "iopub.execute_input": "2021-06-25T21:17:03.237851Z",
          "iopub.status.busy": "2021-06-25T21:17:03.237245Z",
          "iopub.status.idle": "2021-06-25T21:17:03.242699Z",
          "shell.execute_reply": "2021-06-25T21:17:03.242279Z",
          "shell.execute_reply.started": "2021-06-05T14:30:41.62205Z"
        },
        "papermill": {
          "duration": 0.055913,
          "end_time": "2021-06-25T21:17:03.242847",
          "exception": false,
          "start_time": "2021-06-25T21:17:03.186934",
          "status": "completed"
        },
        "tags": [],
        "colab": {
          "base_uri": "https://localhost:8080/"
        },
        "id": "heard-reynolds",
        "outputId": "bb59c0f0-8f01-4871-dd21-eaeea87c33d9"
      },
      "outputs": [
        {
          "output_type": "execute_result",
          "data": {
            "text/plain": [
              "array([nan,  1.,  2.,  3.,  4.,  5.,  6.,  8.])"
            ]
          },
          "metadata": {},
          "execution_count": 4
        }
      ],
      "source": [
        "#return an array of all the unique values in the \"wicket\" \n",
        "df['wicket'].unique()\n"
      ]
    },
    {
      "cell_type": "code",
      "execution_count": 5,
      "id": "disabled-purple",
      "metadata": {
        "execution": {
          "iopub.execute_input": "2021-06-25T21:17:03.336092Z",
          "iopub.status.busy": "2021-06-25T21:17:03.335223Z",
          "iopub.status.idle": "2021-06-25T21:17:03.339368Z",
          "shell.execute_reply": "2021-06-25T21:17:03.338816Z",
          "shell.execute_reply.started": "2021-06-05T14:30:41.630467Z"
        },
        "papermill": {
          "duration": 0.053932,
          "end_time": "2021-06-25T21:17:03.339500",
          "exception": false,
          "start_time": "2021-06-25T21:17:03.285568",
          "status": "completed"
        },
        "tags": [],
        "colab": {
          "base_uri": "https://localhost:8080/"
        },
        "id": "disabled-purple",
        "outputId": "b6266c3b-0b34-4c5e-b4d7-ad5d2ff3a660"
      },
      "outputs": [
        {
          "output_type": "execute_result",
          "data": {
            "text/plain": [
              "array([nan, 'caught', 'bowled', 'lbw', 'run out', 'stumped', 'hit wicket',\n",
              "       'obstruct field'], dtype=object)"
            ]
          },
          "metadata": {},
          "execution_count": 5
        }
      ],
      "source": [
        "#eturn an array of all the unique values in the \"wicket_text\"\n",
        "df['wicket_text'].unique()"
      ]
    },
    {
      "cell_type": "code",
      "execution_count": 6,
      "id": "frequent-stock",
      "metadata": {
        "execution": {
          "iopub.execute_input": "2021-06-25T21:17:03.429683Z",
          "iopub.status.busy": "2021-06-25T21:17:03.429047Z",
          "iopub.status.idle": "2021-06-25T21:17:03.444358Z",
          "shell.execute_reply": "2021-06-25T21:17:03.444762Z",
          "shell.execute_reply.started": "2021-06-05T14:30:41.653418Z"
        },
        "papermill": {
          "duration": 0.062714,
          "end_time": "2021-06-25T21:17:03.444933",
          "exception": false,
          "start_time": "2021-06-25T21:17:03.382219",
          "status": "completed"
        },
        "tags": [],
        "colab": {
          "base_uri": "https://localhost:8080/",
          "height": 357
        },
        "id": "frequent-stock",
        "outputId": "b51e88c9-0f2b-4748-f2c9-944d93763d9b"
      },
      "outputs": [
        {
          "output_type": "execute_result",
          "data": {
            "text/plain": [
              "   psl_year  match_number            team_1             team_2  inning  over  \\\n",
              "0      2016             1  Islamabad United  Quetta Gladiators       1     1   \n",
              "1      2016             1  Islamabad United  Quetta Gladiators       1     1   \n",
              "2      2016             1  Islamabad United  Quetta Gladiators       1     1   \n",
              "3      2016             1  Islamabad United  Quetta Gladiators       1     1   \n",
              "4      2016             1  Islamabad United  Quetta Gladiators       1     1   \n",
              "\n",
              "   ball  runs  total_runs  wickets  is_four  is_six  is_wicket  wicket  \\\n",
              "0     1     0           0        0    False   False      False     0.0   \n",
              "1     2     0           0        0    False   False      False     0.0   \n",
              "2     3     0           0        0    False   False      False     0.0   \n",
              "3     4     0           0        0    False   False      False     0.0   \n",
              "4     5     0           0        0    False   False      False     0.0   \n",
              "\n",
              "  wicket_text      result  \n",
              "0         NaN  Gladiators  \n",
              "1         NaN  Gladiators  \n",
              "2         NaN  Gladiators  \n",
              "3         NaN  Gladiators  \n",
              "4         NaN  Gladiators  "
            ],
            "text/html": [
              "\n",
              "  <div id=\"df-16784991-49ab-459c-b3ef-7180390293ff\">\n",
              "    <div class=\"colab-df-container\">\n",
              "      <div>\n",
              "<style scoped>\n",
              "    .dataframe tbody tr th:only-of-type {\n",
              "        vertical-align: middle;\n",
              "    }\n",
              "\n",
              "    .dataframe tbody tr th {\n",
              "        vertical-align: top;\n",
              "    }\n",
              "\n",
              "    .dataframe thead th {\n",
              "        text-align: right;\n",
              "    }\n",
              "</style>\n",
              "<table border=\"1\" class=\"dataframe\">\n",
              "  <thead>\n",
              "    <tr style=\"text-align: right;\">\n",
              "      <th></th>\n",
              "      <th>psl_year</th>\n",
              "      <th>match_number</th>\n",
              "      <th>team_1</th>\n",
              "      <th>team_2</th>\n",
              "      <th>inning</th>\n",
              "      <th>over</th>\n",
              "      <th>ball</th>\n",
              "      <th>runs</th>\n",
              "      <th>total_runs</th>\n",
              "      <th>wickets</th>\n",
              "      <th>is_four</th>\n",
              "      <th>is_six</th>\n",
              "      <th>is_wicket</th>\n",
              "      <th>wicket</th>\n",
              "      <th>wicket_text</th>\n",
              "      <th>result</th>\n",
              "    </tr>\n",
              "  </thead>\n",
              "  <tbody>\n",
              "    <tr>\n",
              "      <th>0</th>\n",
              "      <td>2016</td>\n",
              "      <td>1</td>\n",
              "      <td>Islamabad United</td>\n",
              "      <td>Quetta Gladiators</td>\n",
              "      <td>1</td>\n",
              "      <td>1</td>\n",
              "      <td>1</td>\n",
              "      <td>0</td>\n",
              "      <td>0</td>\n",
              "      <td>0</td>\n",
              "      <td>False</td>\n",
              "      <td>False</td>\n",
              "      <td>False</td>\n",
              "      <td>0.0</td>\n",
              "      <td>NaN</td>\n",
              "      <td>Gladiators</td>\n",
              "    </tr>\n",
              "    <tr>\n",
              "      <th>1</th>\n",
              "      <td>2016</td>\n",
              "      <td>1</td>\n",
              "      <td>Islamabad United</td>\n",
              "      <td>Quetta Gladiators</td>\n",
              "      <td>1</td>\n",
              "      <td>1</td>\n",
              "      <td>2</td>\n",
              "      <td>0</td>\n",
              "      <td>0</td>\n",
              "      <td>0</td>\n",
              "      <td>False</td>\n",
              "      <td>False</td>\n",
              "      <td>False</td>\n",
              "      <td>0.0</td>\n",
              "      <td>NaN</td>\n",
              "      <td>Gladiators</td>\n",
              "    </tr>\n",
              "    <tr>\n",
              "      <th>2</th>\n",
              "      <td>2016</td>\n",
              "      <td>1</td>\n",
              "      <td>Islamabad United</td>\n",
              "      <td>Quetta Gladiators</td>\n",
              "      <td>1</td>\n",
              "      <td>1</td>\n",
              "      <td>3</td>\n",
              "      <td>0</td>\n",
              "      <td>0</td>\n",
              "      <td>0</td>\n",
              "      <td>False</td>\n",
              "      <td>False</td>\n",
              "      <td>False</td>\n",
              "      <td>0.0</td>\n",
              "      <td>NaN</td>\n",
              "      <td>Gladiators</td>\n",
              "    </tr>\n",
              "    <tr>\n",
              "      <th>3</th>\n",
              "      <td>2016</td>\n",
              "      <td>1</td>\n",
              "      <td>Islamabad United</td>\n",
              "      <td>Quetta Gladiators</td>\n",
              "      <td>1</td>\n",
              "      <td>1</td>\n",
              "      <td>4</td>\n",
              "      <td>0</td>\n",
              "      <td>0</td>\n",
              "      <td>0</td>\n",
              "      <td>False</td>\n",
              "      <td>False</td>\n",
              "      <td>False</td>\n",
              "      <td>0.0</td>\n",
              "      <td>NaN</td>\n",
              "      <td>Gladiators</td>\n",
              "    </tr>\n",
              "    <tr>\n",
              "      <th>4</th>\n",
              "      <td>2016</td>\n",
              "      <td>1</td>\n",
              "      <td>Islamabad United</td>\n",
              "      <td>Quetta Gladiators</td>\n",
              "      <td>1</td>\n",
              "      <td>1</td>\n",
              "      <td>5</td>\n",
              "      <td>0</td>\n",
              "      <td>0</td>\n",
              "      <td>0</td>\n",
              "      <td>False</td>\n",
              "      <td>False</td>\n",
              "      <td>False</td>\n",
              "      <td>0.0</td>\n",
              "      <td>NaN</td>\n",
              "      <td>Gladiators</td>\n",
              "    </tr>\n",
              "  </tbody>\n",
              "</table>\n",
              "</div>\n",
              "      <button class=\"colab-df-convert\" onclick=\"convertToInteractive('df-16784991-49ab-459c-b3ef-7180390293ff')\"\n",
              "              title=\"Convert this dataframe to an interactive table.\"\n",
              "              style=\"display:none;\">\n",
              "        \n",
              "  <svg xmlns=\"http://www.w3.org/2000/svg\" height=\"24px\"viewBox=\"0 0 24 24\"\n",
              "       width=\"24px\">\n",
              "    <path d=\"M0 0h24v24H0V0z\" fill=\"none\"/>\n",
              "    <path d=\"M18.56 5.44l.94 2.06.94-2.06 2.06-.94-2.06-.94-.94-2.06-.94 2.06-2.06.94zm-11 1L8.5 8.5l.94-2.06 2.06-.94-2.06-.94L8.5 2.5l-.94 2.06-2.06.94zm10 10l.94 2.06.94-2.06 2.06-.94-2.06-.94-.94-2.06-.94 2.06-2.06.94z\"/><path d=\"M17.41 7.96l-1.37-1.37c-.4-.4-.92-.59-1.43-.59-.52 0-1.04.2-1.43.59L10.3 9.45l-7.72 7.72c-.78.78-.78 2.05 0 2.83L4 21.41c.39.39.9.59 1.41.59.51 0 1.02-.2 1.41-.59l7.78-7.78 2.81-2.81c.8-.78.8-2.07 0-2.86zM5.41 20L4 18.59l7.72-7.72 1.47 1.35L5.41 20z\"/>\n",
              "  </svg>\n",
              "      </button>\n",
              "      \n",
              "  <style>\n",
              "    .colab-df-container {\n",
              "      display:flex;\n",
              "      flex-wrap:wrap;\n",
              "      gap: 12px;\n",
              "    }\n",
              "\n",
              "    .colab-df-convert {\n",
              "      background-color: #E8F0FE;\n",
              "      border: none;\n",
              "      border-radius: 50%;\n",
              "      cursor: pointer;\n",
              "      display: none;\n",
              "      fill: #1967D2;\n",
              "      height: 32px;\n",
              "      padding: 0 0 0 0;\n",
              "      width: 32px;\n",
              "    }\n",
              "\n",
              "    .colab-df-convert:hover {\n",
              "      background-color: #E2EBFA;\n",
              "      box-shadow: 0px 1px 2px rgba(60, 64, 67, 0.3), 0px 1px 3px 1px rgba(60, 64, 67, 0.15);\n",
              "      fill: #174EA6;\n",
              "    }\n",
              "\n",
              "    [theme=dark] .colab-df-convert {\n",
              "      background-color: #3B4455;\n",
              "      fill: #D2E3FC;\n",
              "    }\n",
              "\n",
              "    [theme=dark] .colab-df-convert:hover {\n",
              "      background-color: #434B5C;\n",
              "      box-shadow: 0px 1px 3px 1px rgba(0, 0, 0, 0.15);\n",
              "      filter: drop-shadow(0px 1px 2px rgba(0, 0, 0, 0.3));\n",
              "      fill: #FFFFFF;\n",
              "    }\n",
              "  </style>\n",
              "\n",
              "      <script>\n",
              "        const buttonEl =\n",
              "          document.querySelector('#df-16784991-49ab-459c-b3ef-7180390293ff button.colab-df-convert');\n",
              "        buttonEl.style.display =\n",
              "          google.colab.kernel.accessAllowed ? 'block' : 'none';\n",
              "\n",
              "        async function convertToInteractive(key) {\n",
              "          const element = document.querySelector('#df-16784991-49ab-459c-b3ef-7180390293ff');\n",
              "          const dataTable =\n",
              "            await google.colab.kernel.invokeFunction('convertToInteractive',\n",
              "                                                     [key], {});\n",
              "          if (!dataTable) return;\n",
              "\n",
              "          const docLinkHtml = 'Like what you see? Visit the ' +\n",
              "            '<a target=\"_blank\" href=https://colab.research.google.com/notebooks/data_table.ipynb>data table notebook</a>'\n",
              "            + ' to learn more about interactive tables.';\n",
              "          element.innerHTML = '';\n",
              "          dataTable['output_type'] = 'display_data';\n",
              "          await google.colab.output.renderOutput(dataTable, element);\n",
              "          const docLink = document.createElement('div');\n",
              "          docLink.innerHTML = docLinkHtml;\n",
              "          element.appendChild(docLink);\n",
              "        }\n",
              "      </script>\n",
              "    </div>\n",
              "  </div>\n",
              "  "
            ]
          },
          "metadata": {},
          "execution_count": 6
        }
      ],
      "source": [
        "#replace all missing or NaN values in the \"wicket\" with the value 0. \n",
        "#The inplace=True argument is used to modify the DataFrame in place instead of creating a new copy.\n",
        "df['wicket'].fillna(0,inplace = True)\n",
        "df.head()"
      ]
    },
    {
      "cell_type": "markdown",
      "id": "tough-message",
      "metadata": {
        "papermill": {
          "duration": 0.042712,
          "end_time": "2021-06-25T21:17:03.530816",
          "exception": false,
          "start_time": "2021-06-25T21:17:03.488104",
          "status": "completed"
        },
        "tags": [],
        "id": "tough-message"
      },
      "source": [
        "#### Hence, we replaced the Nans in the 'wicket' column with 0."
      ]
    },
    {
      "cell_type": "markdown",
      "id": "global-logan",
      "metadata": {
        "papermill": {
          "duration": 0.043136,
          "end_time": "2021-06-25T21:17:03.617584",
          "exception": false,
          "start_time": "2021-06-25T21:17:03.574448",
          "status": "completed"
        },
        "tags": [],
        "id": "global-logan"
      },
      "source": [
        "# **Boundaries Count PER year** "
      ]
    },
    {
      "cell_type": "code",
      "execution_count": 7,
      "id": "moral-thumbnail",
      "metadata": {
        "execution": {
          "iopub.execute_input": "2021-06-25T21:17:03.707044Z",
          "iopub.status.busy": "2021-06-25T21:17:03.706484Z",
          "iopub.status.idle": "2021-06-25T21:17:03.737596Z",
          "shell.execute_reply": "2021-06-25T21:17:03.738273Z",
          "shell.execute_reply.started": "2021-06-05T14:30:41.680669Z"
        },
        "papermill": {
          "duration": 0.077708,
          "end_time": "2021-06-25T21:17:03.738468",
          "exception": false,
          "start_time": "2021-06-25T21:17:03.660760",
          "status": "completed"
        },
        "tags": [],
        "colab": {
          "base_uri": "https://localhost:8080/",
          "height": 206
        },
        "id": "moral-thumbnail",
        "outputId": "a3b93c7c-32f2-4b19-d8d9-d4491a254ebd"
      },
      "outputs": [
        {
          "output_type": "execute_result",
          "data": {
            "text/plain": [
              "   psl_year  fours  sixes  matches\n",
              "0      2016    566    247       24\n",
              "1      2017    552    258       24\n",
              "2      2018    774    414       34\n",
              "3      2019    878    374       34\n",
              "4      2020    873    383       34"
            ],
            "text/html": [
              "\n",
              "  <div id=\"df-8bc4f7fd-eae1-41c7-b66a-ed2b5482ae6b\">\n",
              "    <div class=\"colab-df-container\">\n",
              "      <div>\n",
              "<style scoped>\n",
              "    .dataframe tbody tr th:only-of-type {\n",
              "        vertical-align: middle;\n",
              "    }\n",
              "\n",
              "    .dataframe tbody tr th {\n",
              "        vertical-align: top;\n",
              "    }\n",
              "\n",
              "    .dataframe thead th {\n",
              "        text-align: right;\n",
              "    }\n",
              "</style>\n",
              "<table border=\"1\" class=\"dataframe\">\n",
              "  <thead>\n",
              "    <tr style=\"text-align: right;\">\n",
              "      <th></th>\n",
              "      <th>psl_year</th>\n",
              "      <th>fours</th>\n",
              "      <th>sixes</th>\n",
              "      <th>matches</th>\n",
              "    </tr>\n",
              "  </thead>\n",
              "  <tbody>\n",
              "    <tr>\n",
              "      <th>0</th>\n",
              "      <td>2016</td>\n",
              "      <td>566</td>\n",
              "      <td>247</td>\n",
              "      <td>24</td>\n",
              "    </tr>\n",
              "    <tr>\n",
              "      <th>1</th>\n",
              "      <td>2017</td>\n",
              "      <td>552</td>\n",
              "      <td>258</td>\n",
              "      <td>24</td>\n",
              "    </tr>\n",
              "    <tr>\n",
              "      <th>2</th>\n",
              "      <td>2018</td>\n",
              "      <td>774</td>\n",
              "      <td>414</td>\n",
              "      <td>34</td>\n",
              "    </tr>\n",
              "    <tr>\n",
              "      <th>3</th>\n",
              "      <td>2019</td>\n",
              "      <td>878</td>\n",
              "      <td>374</td>\n",
              "      <td>34</td>\n",
              "    </tr>\n",
              "    <tr>\n",
              "      <th>4</th>\n",
              "      <td>2020</td>\n",
              "      <td>873</td>\n",
              "      <td>383</td>\n",
              "      <td>34</td>\n",
              "    </tr>\n",
              "  </tbody>\n",
              "</table>\n",
              "</div>\n",
              "      <button class=\"colab-df-convert\" onclick=\"convertToInteractive('df-8bc4f7fd-eae1-41c7-b66a-ed2b5482ae6b')\"\n",
              "              title=\"Convert this dataframe to an interactive table.\"\n",
              "              style=\"display:none;\">\n",
              "        \n",
              "  <svg xmlns=\"http://www.w3.org/2000/svg\" height=\"24px\"viewBox=\"0 0 24 24\"\n",
              "       width=\"24px\">\n",
              "    <path d=\"M0 0h24v24H0V0z\" fill=\"none\"/>\n",
              "    <path d=\"M18.56 5.44l.94 2.06.94-2.06 2.06-.94-2.06-.94-.94-2.06-.94 2.06-2.06.94zm-11 1L8.5 8.5l.94-2.06 2.06-.94-2.06-.94L8.5 2.5l-.94 2.06-2.06.94zm10 10l.94 2.06.94-2.06 2.06-.94-2.06-.94-.94-2.06-.94 2.06-2.06.94z\"/><path d=\"M17.41 7.96l-1.37-1.37c-.4-.4-.92-.59-1.43-.59-.52 0-1.04.2-1.43.59L10.3 9.45l-7.72 7.72c-.78.78-.78 2.05 0 2.83L4 21.41c.39.39.9.59 1.41.59.51 0 1.02-.2 1.41-.59l7.78-7.78 2.81-2.81c.8-.78.8-2.07 0-2.86zM5.41 20L4 18.59l7.72-7.72 1.47 1.35L5.41 20z\"/>\n",
              "  </svg>\n",
              "      </button>\n",
              "      \n",
              "  <style>\n",
              "    .colab-df-container {\n",
              "      display:flex;\n",
              "      flex-wrap:wrap;\n",
              "      gap: 12px;\n",
              "    }\n",
              "\n",
              "    .colab-df-convert {\n",
              "      background-color: #E8F0FE;\n",
              "      border: none;\n",
              "      border-radius: 50%;\n",
              "      cursor: pointer;\n",
              "      display: none;\n",
              "      fill: #1967D2;\n",
              "      height: 32px;\n",
              "      padding: 0 0 0 0;\n",
              "      width: 32px;\n",
              "    }\n",
              "\n",
              "    .colab-df-convert:hover {\n",
              "      background-color: #E2EBFA;\n",
              "      box-shadow: 0px 1px 2px rgba(60, 64, 67, 0.3), 0px 1px 3px 1px rgba(60, 64, 67, 0.15);\n",
              "      fill: #174EA6;\n",
              "    }\n",
              "\n",
              "    [theme=dark] .colab-df-convert {\n",
              "      background-color: #3B4455;\n",
              "      fill: #D2E3FC;\n",
              "    }\n",
              "\n",
              "    [theme=dark] .colab-df-convert:hover {\n",
              "      background-color: #434B5C;\n",
              "      box-shadow: 0px 1px 3px 1px rgba(0, 0, 0, 0.15);\n",
              "      filter: drop-shadow(0px 1px 2px rgba(0, 0, 0, 0.3));\n",
              "      fill: #FFFFFF;\n",
              "    }\n",
              "  </style>\n",
              "\n",
              "      <script>\n",
              "        const buttonEl =\n",
              "          document.querySelector('#df-8bc4f7fd-eae1-41c7-b66a-ed2b5482ae6b button.colab-df-convert');\n",
              "        buttonEl.style.display =\n",
              "          google.colab.kernel.accessAllowed ? 'block' : 'none';\n",
              "\n",
              "        async function convertToInteractive(key) {\n",
              "          const element = document.querySelector('#df-8bc4f7fd-eae1-41c7-b66a-ed2b5482ae6b');\n",
              "          const dataTable =\n",
              "            await google.colab.kernel.invokeFunction('convertToInteractive',\n",
              "                                                     [key], {});\n",
              "          if (!dataTable) return;\n",
              "\n",
              "          const docLinkHtml = 'Like what you see? Visit the ' +\n",
              "            '<a target=\"_blank\" href=https://colab.research.google.com/notebooks/data_table.ipynb>data table notebook</a>'\n",
              "            + ' to learn more about interactive tables.';\n",
              "          element.innerHTML = '';\n",
              "          dataTable['output_type'] = 'display_data';\n",
              "          await google.colab.output.renderOutput(dataTable, element);\n",
              "          const docLink = document.createElement('div');\n",
              "          docLink.innerHTML = docLinkHtml;\n",
              "          element.appendChild(docLink);\n",
              "        }\n",
              "      </script>\n",
              "    </div>\n",
              "  </div>\n",
              "  "
            ]
          },
          "metadata": {},
          "execution_count": 7
        }
      ],
      "source": [
        "#is used to group the DataFrame by the \"psl_year\" \n",
        "boundries_df = df.groupby(['psl_year']).agg(\n",
        "    fours = ('is_four','sum'),\n",
        "    sixes = ('is_six','sum'),\n",
        "    matches = ('match_number','max')\n",
        "    \n",
        ")\n",
        "#reset_index() method is used to reset the index of the DataFrame boundries_df.\n",
        "boundries_df = boundries_df.reset_index()\n",
        "\n",
        "boundries_df"
      ]
    },
    {
      "cell_type": "markdown",
      "source": [
        "### **total_fours per year** "
      ],
      "metadata": {
        "id": "HlFSr0YSEVlT"
      },
      "id": "HlFSr0YSEVlT"
    },
    {
      "cell_type": "code",
      "execution_count": 8,
      "id": "solved-millennium",
      "metadata": {
        "execution": {
          "iopub.execute_input": "2021-06-25T21:17:03.829374Z",
          "iopub.status.busy": "2021-06-25T21:17:03.828798Z",
          "iopub.status.idle": "2021-06-25T21:17:04.018820Z",
          "shell.execute_reply": "2021-06-25T21:17:04.018350Z",
          "shell.execute_reply.started": "2021-06-05T14:30:41.716053Z"
        },
        "papermill": {
          "duration": 0.236117,
          "end_time": "2021-06-25T21:17:04.018959",
          "exception": false,
          "start_time": "2021-06-25T21:17:03.782842",
          "status": "completed"
        },
        "tags": [],
        "id": "solved-millennium",
        "colab": {
          "base_uri": "https://localhost:8080/",
          "height": 457
        },
        "outputId": "95ea0623-3ea6-481b-e1a2-f0a300953f52"
      },
      "outputs": [
        {
          "output_type": "display_data",
          "data": {
            "text/plain": [
              "<Figure size 640x480 with 1 Axes>"
            ],
            "image/png": "[encoded data removed]"
          },
          "metadata": {}
        }
      ],
      "source": [
        "#create a new DataFrame with all the years\n",
        "all_years = pd.DataFrame({'psl_year': [2016, 2017, 2018, 2019, 2020]})\n",
        "\n",
        "# merge the new DataFrame with boundries_df\n",
        "merged_df = pd.merge(all_years, boundries_df, on='psl_year', how='left')\n",
        "\n",
        "\n",
        "# plot the bar chart with the updated DataFrame\n",
        "ax = merged_df.plot(x='psl_year', y='fours', title= 'Total Fours Per Year', kind='barh', colormap='rainbow')"
      ]
    },
    {
      "cell_type": "markdown",
      "source": [
        "## **total_six per year** "
      ],
      "metadata": {
        "id": "_otrKpw6gCaA"
      },
      "id": "_otrKpw6gCaA"
    },
    {
      "cell_type": "code",
      "source": [
        "#create a new DataFrame with all the years\n",
        "all_years = pd.DataFrame({'psl_year': [2016, 2017, 2018, 2019, 2020]})\n",
        "\n",
        "# merge the new DataFrame with boundries_df\n",
        "merged_df = pd.merge(all_years, boundries_df, on='psl_year', how='left')\n",
        "\n",
        "\n",
        "# plot the bar chart with the updated DataFrame\n",
        "ax = boundries_df.plot('psl_year', 'sixes', kind='barh', color='Purple')"
      ],
      "metadata": {
        "colab": {
          "base_uri": "https://localhost:8080/",
          "height": 434
        },
        "id": "_zJHjHAmf8Rm",
        "outputId": "c76d39aa-9b50-4ff8-ce38-814afe083a15"
      },
      "id": "_zJHjHAmf8Rm",
      "execution_count": 9,
      "outputs": [
        {
          "output_type": "display_data",
          "data": {
            "text/plain": [
              "<Figure size 640x480 with 1 Axes>"
            ],
            "image/png": "[encoded data removed]"
          },
          "metadata": {}
        }
      ]
    },
    {
      "cell_type": "markdown",
      "source": [
        "# **Boundaries count PER match** "
      ],
      "metadata": {
        "id": "mF4pgcYDF0zd"
      },
      "id": "mF4pgcYDF0zd"
    },
    {
      "cell_type": "code",
      "source": [
        "# group the DataFrame by the \"psl_year\" column and aggregate the desired values\n",
        "boundries_df = df.groupby(['psl_year']).agg(\n",
        "    fours = ('is_four','sum'),\n",
        "    sixes = ('is_six','sum'),\n",
        "    matches = ('match_number','max')\n",
        ")\n",
        "\n",
        "# calculate the values of fours per match and sixes per match, and round to whole numbers\n",
        "boundries_df['fours_per_match'] = round(boundries_df['fours'] / boundries_df['matches'])\n",
        "boundries_df['sixes_per_match'] = round(boundries_df['sixes'] / boundries_df['matches'])\n",
        "\n",
        "\n",
        "# reset the index of the DataFrame\n",
        "boundries_df = boundries_df.reset_index()\n",
        "\n",
        "# display the resulting DataFrame\n",
        "#print(boundries_df[['psl_year', 'fours_per_match', 'sixes_per_match']])\n",
        "boundries_df"
      ],
      "metadata": {
        "id": "AgQWJcrkF1C8",
        "outputId": "37baecbd-a1b2-4546-9c81-92c8fd4c6294",
        "colab": {
          "base_uri": "https://localhost:8080/",
          "height": 206
        }
      },
      "id": "AgQWJcrkF1C8",
      "execution_count": 10,
      "outputs": [
        {
          "output_type": "execute_result",
          "data": {
            "text/plain": [
              "   psl_year  fours  sixes  matches  fours_per_match  sixes_per_match\n",
              "0      2016    566    247       24             24.0             10.0\n",
              "1      2017    552    258       24             23.0             11.0\n",
              "2      2018    774    414       34             23.0             12.0\n",
              "3      2019    878    374       34             26.0             11.0\n",
              "4      2020    873    383       34             26.0             11.0"
            ],
            "text/html": [
              "\n",
              "  <div id=\"df-85973610-d4e5-4dbc-88e4-61f23eca8416\">\n",
              "    <div class=\"colab-df-container\">\n",
              "      <div>\n",
              "<style scoped>\n",
              "    .dataframe tbody tr th:only-of-type {\n",
              "        vertical-align: middle;\n",
              "    }\n",
              "\n",
              "    .dataframe tbody tr th {\n",
              "        vertical-align: top;\n",
              "    }\n",
              "\n",
              "    .dataframe thead th {\n",
              "        text-align: right;\n",
              "    }\n",
              "</style>\n",
              "<table border=\"1\" class=\"dataframe\">\n",
              "  <thead>\n",
              "    <tr style=\"text-align: right;\">\n",
              "      <th></th>\n",
              "      <th>psl_year</th>\n",
              "      <th>fours</th>\n",
              "      <th>sixes</th>\n",
              "      <th>matches</th>\n",
              "      <th>fours_per_match</th>\n",
              "      <th>sixes_per_match</th>\n",
              "    </tr>\n",
              "  </thead>\n",
              "  <tbody>\n",
              "    <tr>\n",
              "      <th>0</th>\n",
              "      <td>2016</td>\n",
              "      <td>566</td>\n",
              "      <td>247</td>\n",
              "      <td>24</td>\n",
              "      <td>24.0</td>\n",
              "      <td>10.0</td>\n",
              "    </tr>\n",
              "    <tr>\n",
              "      <th>1</th>\n",
              "      <td>2017</td>\n",
              "      <td>552</td>\n",
              "      <td>258</td>\n",
              "      <td>24</td>\n",
              "      <td>23.0</td>\n",
              "      <td>11.0</td>\n",
              "    </tr>\n",
              "    <tr>\n",
              "      <th>2</th>\n",
              "      <td>2018</td>\n",
              "      <td>774</td>\n",
              "      <td>414</td>\n",
              "      <td>34</td>\n",
              "      <td>23.0</td>\n",
              "      <td>12.0</td>\n",
              "    </tr>\n",
              "    <tr>\n",
              "      <th>3</th>\n",
              "      <td>2019</td>\n",
              "      <td>878</td>\n",
              "      <td>374</td>\n",
              "      <td>34</td>\n",
              "      <td>26.0</td>\n",
              "      <td>11.0</td>\n",
              "    </tr>\n",
              "    <tr>\n",
              "      <th>4</th>\n",
              "      <td>2020</td>\n",
              "      <td>873</td>\n",
              "      <td>383</td>\n",
              "      <td>34</td>\n",
              "      <td>26.0</td>\n",
              "      <td>11.0</td>\n",
              "    </tr>\n",
              "  </tbody>\n",
              "</table>\n",
              "</div>\n",
              "      <button class=\"colab-df-convert\" onclick=\"convertToInteractive('df-85973610-d4e5-4dbc-88e4-61f23eca8416')\"\n",
              "              title=\"Convert this dataframe to an interactive table.\"\n",
              "              style=\"display:none;\">\n",
              "        \n",
              "  <svg xmlns=\"http://www.w3.org/2000/svg\" height=\"24px\"viewBox=\"0 0 24 24\"\n",
              "       width=\"24px\">\n",
              "    <path d=\"M0 0h24v24H0V0z\" fill=\"none\"/>\n",
              "    <path d=\"M18.56 5.44l.94 2.06.94-2.06 2.06-.94-2.06-.94-.94-2.06-.94 2.06-2.06.94zm-11 1L8.5 8.5l.94-2.06 2.06-.94-2.06-.94L8.5 2.5l-.94 2.06-2.06.94zm10 10l.94 2.06.94-2.06 2.06-.94-2.06-.94-.94-2.06-.94 2.06-2.06.94z\"/><path d=\"M17.41 7.96l-1.37-1.37c-.4-.4-.92-.59-1.43-.59-.52 0-1.04.2-1.43.59L10.3 9.45l-7.72 7.72c-.78.78-.78 2.05 0 2.83L4 21.41c.39.39.9.59 1.41.59.51 0 1.02-.2 1.41-.59l7.78-7.78 2.81-2.81c.8-.78.8-2.07 0-2.86zM5.41 20L4 18.59l7.72-7.72 1.47 1.35L5.41 20z\"/>\n",
              "  </svg>\n",
              "      </button>\n",
              "      \n",
              "  <style>\n",
              "    .colab-df-container {\n",
              "      display:flex;\n",
              "      flex-wrap:wrap;\n",
              "      gap: 12px;\n",
              "    }\n",
              "\n",
              "    .colab-df-convert {\n",
              "      background-color: #E8F0FE;\n",
              "      border: none;\n",
              "      border-radius: 50%;\n",
              "      cursor: pointer;\n",
              "      display: none;\n",
              "      fill: #1967D2;\n",
              "      height: 32px;\n",
              "      padding: 0 0 0 0;\n",
              "      width: 32px;\n",
              "    }\n",
              "\n",
              "    .colab-df-convert:hover {\n",
              "      background-color: #E2EBFA;\n",
              "      box-shadow: 0px 1px 2px rgba(60, 64, 67, 0.3), 0px 1px 3px 1px rgba(60, 64, 67, 0.15);\n",
              "      fill: #174EA6;\n",
              "    }\n",
              "\n",
              "    [theme=dark] .colab-df-convert {\n",
              "      background-color: #3B4455;\n",
              "      fill: #D2E3FC;\n",
              "    }\n",
              "\n",
              "    [theme=dark] .colab-df-convert:hover {\n",
              "      background-color: #434B5C;\n",
              "      box-shadow: 0px 1px 3px 1px rgba(0, 0, 0, 0.15);\n",
              "      filter: drop-shadow(0px 1px 2px rgba(0, 0, 0, 0.3));\n",
              "      fill: #FFFFFF;\n",
              "    }\n",
              "  </style>\n",
              "\n",
              "      <script>\n",
              "        const buttonEl =\n",
              "          document.querySelector('#df-85973610-d4e5-4dbc-88e4-61f23eca8416 button.colab-df-convert');\n",
              "        buttonEl.style.display =\n",
              "          google.colab.kernel.accessAllowed ? 'block' : 'none';\n",
              "\n",
              "        async function convertToInteractive(key) {\n",
              "          const element = document.querySelector('#df-85973610-d4e5-4dbc-88e4-61f23eca8416');\n",
              "          const dataTable =\n",
              "            await google.colab.kernel.invokeFunction('convertToInteractive',\n",
              "                                                     [key], {});\n",
              "          if (!dataTable) return;\n",
              "\n",
              "          const docLinkHtml = 'Like what you see? Visit the ' +\n",
              "            '<a target=\"_blank\" href=https://colab.research.google.com/notebooks/data_table.ipynb>data table notebook</a>'\n",
              "            + ' to learn more about interactive tables.';\n",
              "          element.innerHTML = '';\n",
              "          dataTable['output_type'] = 'display_data';\n",
              "          await google.colab.output.renderOutput(dataTable, element);\n",
              "          const docLink = document.createElement('div');\n",
              "          docLink.innerHTML = docLinkHtml;\n",
              "          element.appendChild(docLink);\n",
              "        }\n",
              "      </script>\n",
              "    </div>\n",
              "  </div>\n",
              "  "
            ]
          },
          "metadata": {},
          "execution_count": 10
        }
      ]
    },
    {
      "cell_type": "markdown",
      "source": [
        "### **fours per match**"
      ],
      "metadata": {
        "id": "jEYKs5u7fAvc"
      },
      "id": "jEYKs5u7fAvc"
    },
    {
      "cell_type": "code",
      "source": [
        "ax = boundries_df.plot('psl_year', 'fours_per_match', kind='barh', colormap='rainbow')"
      ],
      "metadata": {
        "id": "_IKZnuyVfnVN",
        "colab": {
          "base_uri": "https://localhost:8080/",
          "height": 434
        },
        "outputId": "9da4b6fc-8051-45a2-b99c-1e0202282bd4"
      },
      "id": "_IKZnuyVfnVN",
      "execution_count": 11,
      "outputs": [
        {
          "output_type": "display_data",
          "data": {
            "text/plain": [
              "<Figure size 640x480 with 1 Axes>"
            ],
            "image/png": "[encoded data removed]"
          },
          "metadata": {}
        }
      ]
    },
    {
      "cell_type": "markdown",
      "source": [
        "### **total_sixes per Match**"
      ],
      "metadata": {
        "id": "eJJpdjm8Eixf"
      },
      "id": "eJJpdjm8Eixf"
    },
    {
      "cell_type": "code",
      "execution_count": 12,
      "id": "crucial-horror",
      "metadata": {
        "execution": {
          "iopub.execute_input": "2021-06-25T21:17:04.128500Z",
          "iopub.status.busy": "2021-06-25T21:17:04.127899Z",
          "iopub.status.idle": "2021-06-25T21:17:04.263124Z",
          "shell.execute_reply": "2021-06-25T21:17:04.262494Z",
          "shell.execute_reply.started": "2021-06-05T14:30:41.903Z"
        },
        "papermill": {
          "duration": 0.19969,
          "end_time": "2021-06-25T21:17:04.263268",
          "exception": false,
          "start_time": "2021-06-25T21:17:04.063578",
          "status": "completed"
        },
        "tags": [],
        "id": "crucial-horror",
        "outputId": "2d67ff72-457f-4c3a-d152-309ed960f794",
        "colab": {
          "base_uri": "https://localhost:8080/",
          "height": 482
        }
      },
      "outputs": [
        {
          "output_type": "display_data",
          "data": {
            "text/plain": [
              "<Figure size 640x480 with 1 Axes>"
            ],
            "image/png": "[encoded data removed]"
          },
          "metadata": {}
        }
      ],
      "source": [
        "ax = boundries_df.plot('psl_year', 'sixes_per_match', kind='bar',color='Purple')"
      ]
    },
    {
      "cell_type": "markdown",
      "source": [
        "## From the following graphs it is concluded that\n",
        "\n",
        "1.   Most fours and fours per match were scored in 2019.\n",
        "\n",
        "2.   Most sixes and sixes per match were scored in 2018.\n",
        "\n"
      ],
      "metadata": {
        "id": "zn4IsvB_h47R"
      },
      "id": "zn4IsvB_h47R"
    },
    {
      "cell_type": "markdown",
      "source": [
        "## **the total runs scored by each team per over for teams that have played more than 5 matches.**"
      ],
      "metadata": {
        "id": "RJWCTpFqlx_c"
      },
      "id": "RJWCTpFqlx_c"
    },
    {
      "cell_type": "code",
      "source": [
        "matches_played_byteams = df.groupby('team_1')['match_number'].nunique() + df.groupby('team_2')['match_number'].nunique()\n",
        "teams_to_plot = matches_played_byteams[matches_played_byteams > 5].index\n",
        "colors = [\"b\", \"r\", \"#Ffb6b2\", \"g\", 'brown', 'y', '#6666ff', 'black', '#FFA500']\n",
        "runs_per_over[teams_to_plot].plot(color=colors)\n",
        "x = np.arange(1, 21)\n",
        "plt.xticks(x)\n",
        "plt.xlabel('Over')\n",
        "plt.ylabel('Total runs scored')\n",
        "fig=plt.gcf()\n",
        "fig.set_size_inches(16,8)\n",
        "plt.title('Total runs scored by each team per over')\n",
        "plt.show()\n"
      ],
      "metadata": {
        "colab": {
          "base_uri": "https://localhost:8080/",
          "height": 628
        },
        "id": "GorWo27LkkSs",
        "outputId": "51d4e4a1-6dee-4a01-abf7-2cb633742eb6"
      },
      "id": "GorWo27LkkSs",
      "execution_count": null,
      "outputs": [
        {
          "output_type": "display_data",
          "data": {
            "text/plain": [
              "<Figure size 1600x800 with 1 Axes>"
            ],
            "image/png": "[encoded data removed]"
          },
          "metadata": {}
        }
      ]
    },
    {
      "cell_type": "markdown",
      "source": [],
      "metadata": {
        "id": "in7LmNGXl08_"
      },
      "id": "in7LmNGXl08_"
    },
    {
      "cell_type": "markdown",
      "id": "afraid-thompson",
      "metadata": {
        "papermill": {
          "duration": 0.04706,
          "end_time": "2021-06-25T21:17:05.043479",
          "exception": false,
          "start_time": "2021-06-25T21:17:04.996419",
          "status": "completed"
        },
        "tags": [],
        "id": "afraid-thompson"
      },
      "source": [
        "# **Wickets**"
      ]
    },
    {
      "cell_type": "code",
      "execution_count": 13,
      "id": "active-perception",
      "metadata": {
        "execution": {
          "iopub.execute_input": "2021-06-25T21:17:05.147098Z",
          "iopub.status.busy": "2021-06-25T21:17:05.146494Z",
          "iopub.status.idle": "2021-06-25T21:17:05.150313Z",
          "shell.execute_reply": "2021-06-25T21:17:05.149866Z",
          "shell.execute_reply.started": "2021-06-05T14:30:42.496221Z"
        },
        "papermill": {
          "duration": 0.060423,
          "end_time": "2021-06-25T21:17:05.150445",
          "exception": false,
          "start_time": "2021-06-25T21:17:05.090022",
          "status": "completed"
        },
        "tags": [],
        "id": "active-perception"
      },
      "outputs": [],
      "source": [
        "# counts the frequency of each unique value \n",
        "wickets = df['wicket_text'].value_counts()\n",
        "#wicket_dict which contains the count of each type of wicket (bowled, caught, lbw, etc.)\n",
        "wicket_dict = dict(wickets)\n",
        "# creates an empty list del_keys that will be used to store the wicket types that occur less frequently than the threshold.\n",
        "del_keys = []\n",
        "# counter variable others to zero, which will be used to keep track of the total count of wickets that are grouped into the \"others\" category.\n",
        "others = 0\n",
        "# This loops through each key-value pair in the wicket_dict dictionary.\n",
        "for key, value in wicket_dict.items(): \n",
        "  #: This checks if the value (i.e., count) of the current key (i.e., wicket type) is less than the threshold of 100.\n",
        "    if value <100:\n",
        "        others = others+value\n",
        "        del_keys.append(key)\n",
        "for del_key in del_keys:\n",
        "  \n",
        "    del(wicket_dict[del_key])\n",
        "wicket_dict['others']= others\n",
        "wicket_dict\n",
        "colors = ['m', 'g', 'pink', 'y', 'b', 'r']\n",
        "\n"
      ]
    },
    {
      "cell_type": "code",
      "execution_count": 14,
      "id": "prostate-debut",
      "metadata": {
        "execution": {
          "iopub.execute_input": "2021-06-25T21:17:05.406693Z",
          "iopub.status.busy": "2021-06-25T21:17:05.396710Z",
          "iopub.status.idle": "2021-06-25T21:17:05.518472Z",
          "shell.execute_reply": "2021-06-25T21:17:05.518908Z",
          "shell.execute_reply.started": "2021-06-05T14:30:42.510348Z"
        },
        "papermill": {
          "duration": 0.322679,
          "end_time": "2021-06-25T21:17:05.519087",
          "exception": false,
          "start_time": "2021-06-25T21:17:05.196408",
          "status": "completed"
        },
        "tags": [],
        "id": "prostate-debut",
        "outputId": "af69aae1-3831-47be-df13-7a4d8b4e83e0",
        "colab": {
          "base_uri": "https://localhost:8080/",
          "height": 456
        }
      },
      "outputs": [
        {
          "output_type": "execute_result",
          "data": {
            "text/plain": [
              "<BarContainer object of 5 artists>"
            ]
          },
          "metadata": {},
          "execution_count": 14
        },
        {
          "output_type": "display_data",
          "data": {
            "text/plain": [
              "<Figure size 640x480 with 1 Axes>"
            ],
            "image/png": "[encoded data removed]"
          },
          "metadata": {}
        }
      ],
      "source": [
        "plt.bar(*zip(*wicket_dict.items()),  color=colors)"
      ]
    },
    {
      "cell_type": "markdown",
      "id": "popular-gallery",
      "metadata": {
        "papermill": {
          "duration": 0.046789,
          "end_time": "2021-06-25T21:17:05.612518",
          "exception": false,
          "start_time": "2021-06-25T21:17:05.565729",
          "status": "completed"
        },
        "tags": [],
        "id": "popular-gallery"
      },
      "source": [
        "#### Here, we found an interesting fact that most of the players lost their wickets by getting caught."
      ]
    },
    {
      "cell_type": "markdown",
      "id": "animal-rouge",
      "metadata": {
        "papermill": {
          "duration": 0.046638,
          "end_time": "2021-06-25T21:17:05.705855",
          "exception": false,
          "start_time": "2021-06-25T21:17:05.659217",
          "status": "completed"
        },
        "tags": [],
        "id": "animal-rouge"
      },
      "source": [
        "# **Team Based Dataframes**"
      ]
    },
    {
      "cell_type": "code",
      "execution_count": 15,
      "id": "african-failing",
      "metadata": {
        "execution": {
          "iopub.execute_input": "2021-06-25T21:17:05.814214Z",
          "iopub.status.busy": "2021-06-25T21:17:05.813554Z",
          "iopub.status.idle": "2021-06-25T21:17:05.851023Z",
          "shell.execute_reply": "2021-06-25T21:17:05.851478Z",
          "shell.execute_reply.started": "2021-06-05T14:30:42.673909Z"
        },
        "papermill": {
          "duration": 0.09911,
          "end_time": "2021-06-25T21:17:05.851655",
          "exception": false,
          "start_time": "2021-06-25T21:17:05.752545",
          "status": "completed"
        },
        "tags": [],
        "id": "african-failing"
      },
      "outputs": [],
      "source": [
        "teams_df = {'Quetta' : df.loc[((df['team_1'] == \"Quetta Gladiators\") & (df['inning'] == 1)) | ((df['team_2'] == \"Quetta Gladiators\") & (df['inning'] == 2))],\n",
        "'Lahore' : df.loc[((df['team_1'] == \"Lahore Qalandars\") & (df['inning'] == 1)) | ((df['team_2'] == \"Lahore Qalandars\") & (df['inning'] == 2))],\n",
        "'Islamabad' : df.loc[((df['team_1'] == \"Islamabad United\") & (df['inning'] == 1)) | ((df['team_2'] == \"Islamabad United\") & (df['inning'] == 2))],\n",
        "'Peshawar' : df.loc[((df['team_1'] == \"Peshawar Zalmi\") & (df['inning'] == 1)) | ((df['team_2'] == \"Peshawar Zalmi\") & (df['inning'] == 2))],\n",
        "'Multan' : df.loc[((df['team_1'] == \"Multan Sultans\") & (df['inning'] == 1)) | ((df['team_2'] == \"Multan Sultans\") & (df['inning'] == 2))],\n",
        "'Karachi' : df.loc[((df['team_1'] == \"Karachi Kings\") & (df['inning'] == 1)) | ((df['team_2'] == \"Karachi Kings\") & (df['inning'] == 2))]\n",
        "}"
      ]
    },
    {
      "cell_type": "markdown",
      "id": "naval-taste",
      "metadata": {
        "papermill": {
          "duration": 0.046501,
          "end_time": "2021-06-25T21:17:05.945799",
          "exception": false,
          "start_time": "2021-06-25T21:17:05.899298",
          "status": "completed"
        },
        "tags": [],
        "id": "naval-taste"
      },
      "source": [
        "\n",
        "# **Team Based Runs**"
      ]
    },
    {
      "cell_type": "code",
      "execution_count": 16,
      "id": "postal-grain",
      "metadata": {
        "execution": {
          "iopub.execute_input": "2021-06-25T21:17:06.045791Z",
          "iopub.status.busy": "2021-06-25T21:17:06.045158Z",
          "iopub.status.idle": "2021-06-25T21:17:06.056398Z",
          "shell.execute_reply": "2021-06-25T21:17:06.055873Z",
          "shell.execute_reply.started": "2021-06-05T14:30:42.917062Z"
        },
        "papermill": {
          "duration": 0.064149,
          "end_time": "2021-06-25T21:17:06.056538",
          "exception": false,
          "start_time": "2021-06-25T21:17:05.992389",
          "status": "completed"
        },
        "tags": [],
        "id": "postal-grain"
      },
      "outputs": [],
      "source": [
        "# empty dictionary\n",
        "team_runs = {}\n",
        "for team_name, value in teams_df.items():\n",
        "  #calculates the total runs scored by the team \n",
        "    team_runs[team_name] = value['runs'].sum()\n",
        "#empty dictionary     \n",
        "team_matches = {}\n",
        "#it calculates the number of matches played by that team \n",
        "for team_name , value in teams_df.items():\n",
        "    team_matches[team_name] = value.groupby(['psl_year', 'match_number']).ngroups"
      ]
    },
    {
      "cell_type": "code",
      "source": [
        "import matplotlib.pyplot as plt\n",
        "\n",
        "# Calculate runs scored by each team\n",
        "team_runs = {}\n",
        "for team_name, value in teams_df.items():\n",
        "    team_runs[team_name] = value['runs'].sum()\n",
        "\n",
        "# Create a list of colors for each bar\n",
        "colors = ['m', 'g', 'pink', 'y', 'b', 'r']\n",
        "\n",
        "# Create bar chart\n",
        "plt.bar(team_runs.keys(), team_runs.values(), color=colors)\n",
        "plt.title(\"Run Scored\")\n",
        "\n",
        "# Display chart\n",
        "plt.show()\n"
      ],
      "metadata": {
        "colab": {
          "base_uri": "https://localhost:8080/",
          "height": 457
        },
        "id": "L_jCpynGTs9I",
        "outputId": "32cf4b8f-b418-4f10-cfb5-1e6b721fdd39"
      },
      "id": "L_jCpynGTs9I",
      "execution_count": 17,
      "outputs": [
        {
          "output_type": "display_data",
          "data": {
            "text/plain": [
              "<Figure size 640x480 with 1 Axes>"
            ],
            "image/png": "[encoded data removed]"
          },
          "metadata": {}
        }
      ]
    },
    {
      "cell_type": "markdown",
      "id": "ultimate-supplier",
      "metadata": {
        "papermill": {
          "duration": 0.04778,
          "end_time": "2021-06-25T21:17:06.380369",
          "exception": false,
          "start_time": "2021-06-25T21:17:06.332589",
          "status": "completed"
        },
        "tags": [],
        "id": "ultimate-supplier"
      },
      "source": [
        "#### Among all the teams Peshawar scored the most runs, followed by Islamabad United."
      ]
    },
    {
      "cell_type": "markdown",
      "id": "resident-reconstruction",
      "metadata": {
        "papermill": {
          "duration": 0.047909,
          "end_time": "2021-06-25T21:17:06.476380",
          "exception": false,
          "start_time": "2021-06-25T21:17:06.428471",
          "status": "completed"
        },
        "tags": [],
        "id": "resident-reconstruction"
      },
      "source": [
        "# **Team Based Percentage Runs in Boundaries**"
      ]
    },
    {
      "cell_type": "code",
      "execution_count": 18,
      "id": "liberal-lightweight",
      "metadata": {
        "execution": {
          "iopub.execute_input": "2021-06-25T21:17:06.580287Z",
          "iopub.status.busy": "2021-06-25T21:17:06.579372Z",
          "iopub.status.idle": "2021-06-25T21:17:06.582420Z",
          "shell.execute_reply": "2021-06-25T21:17:06.581975Z",
          "shell.execute_reply.started": "2021-06-05T14:30:43.096296Z"
        },
        "papermill": {
          "duration": 0.058338,
          "end_time": "2021-06-25T21:17:06.582550",
          "exception": false,
          "start_time": "2021-06-25T21:17:06.524212",
          "status": "completed"
        },
        "tags": [],
        "id": "liberal-lightweight"
      },
      "outputs": [],
      "source": [
        "#to store the total number of runs scored by each team through boundaries. team name as the key.\n",
        "team_boundry_runs = {}\n",
        "for team_name, value in teams_df.items():\n",
        "    sixes = value['is_six'].sum()\n",
        "    fours = value['is_four'].sum()\n",
        "    team_boundry_runs[team_name]= (sixes*6)+(fours*4)\n",
        "    \n",
        "# to store the percentage of runs scored by each team through boundaries\n",
        "boundry_run_percentage = {}\n",
        "for team, runs in team_runs.items():\n",
        "#     print (f\"{team} scored {(team_boundry_runs[team]/runs)*100}% runs in boundries\")\n",
        "    boundry_run_percentage[team] = (team_boundry_runs[team]/runs)*100"
      ]
    },
    {
      "cell_type": "code",
      "source": [
        "import matplotlib.pyplot as plt\n",
        "\n",
        "# Calculate percentage of runs scored in boundaries for each team\n",
        "team_boundry_runs = {}\n",
        "for team_name, value in teams_df.items():\n",
        "    sixes = value['is_six'].sum()\n",
        "    fours = value['is_four'].sum()\n",
        "    team_boundry_runs[team_name]= (sixes*6)+(fours*4)\n",
        "#store the percentage of runs scored through boundaries for each team\n",
        "boundry_run_percentage = {}\n",
        "for team, runs in team_runs.items():\n",
        "    boundry_run_percentage[team] = (team_boundry_runs[team]/runs)*100\n",
        "\n",
        "colors = ['m', 'g', 'pink', 'y', 'b', 'r']\n",
        "\n",
        "\n",
        "# Create a pie chart with percentage values\n",
        "plt.pie(boundry_run_percentage.values(), labels=boundry_run_percentage.keys(), autopct='%1.1f%%', colors = colors)\n",
        "\n",
        "# Add a title to the chart\n",
        "plt.title('Percentage of Runs Scored in Boundaries by Team')\n",
        "\n",
        "# Display chart\n",
        "plt.show()\n"
      ],
      "metadata": {
        "colab": {
          "base_uri": "https://localhost:8080/",
          "height": 428
        },
        "id": "WwS6REryYS9l",
        "outputId": "71c53f42-2b91-49a5-cda6-ecc673f6e164"
      },
      "id": "WwS6REryYS9l",
      "execution_count": 19,
      "outputs": [
        {
          "output_type": "display_data",
          "data": {
            "text/plain": [
              "<Figure size 640x480 with 1 Axes>"
            ],
            "image/png": "[encoded data removed]"
          },
          "metadata": {}
        }
      ]
    },
    {
      "cell_type": "code",
      "execution_count": 20,
      "id": "aggressive-reader",
      "metadata": {
        "execution": {
          "iopub.execute_input": "2021-06-25T21:17:06.701553Z",
          "iopub.status.busy": "2021-06-25T21:17:06.699517Z",
          "iopub.status.idle": "2021-06-25T21:17:06.818252Z",
          "shell.execute_reply": "2021-06-25T21:17:06.817643Z",
          "shell.execute_reply.started": "2021-06-05T14:30:43.105866Z"
        },
        "papermill": {
          "duration": 0.188358,
          "end_time": "2021-06-25T21:17:06.818390",
          "exception": false,
          "start_time": "2021-06-25T21:17:06.630032",
          "status": "completed"
        },
        "tags": [],
        "id": "aggressive-reader",
        "outputId": "b0632cd8-4a42-4d73-c32d-b758a20b0a59",
        "colab": {
          "base_uri": "https://localhost:8080/",
          "height": 451
        }
      },
      "outputs": [
        {
          "output_type": "execute_result",
          "data": {
            "text/plain": [
              "<BarContainer object of 6 artists>"
            ]
          },
          "metadata": {},
          "execution_count": 20
        },
        {
          "output_type": "display_data",
          "data": {
            "text/plain": [
              "<Figure size 640x480 with 1 Axes>"
            ],
            "image/png": "[encoded data removed]"
          },
          "metadata": {}
        }
      ],
      "source": [
        "plt.barh(*zip(*boundry_run_percentage.items()),color=colors)"
      ]
    },
    {
      "cell_type": "markdown",
      "id": "fabulous-bobby",
      "metadata": {
        "papermill": {
          "duration": 0.04857,
          "end_time": "2021-06-25T21:17:06.916573",
          "exception": false,
          "start_time": "2021-06-25T21:17:06.868003",
          "status": "completed"
        },
        "tags": [],
        "id": "fabulous-bobby"
      },
      "source": [
        "#### This shows that Islamabad United dealt more in boundaries to score the runs."
      ]
    },
    {
      "cell_type": "markdown",
      "id": "linear-nickel",
      "metadata": {
        "papermill": {
          "duration": 0.049247,
          "end_time": "2021-06-25T21:17:07.014767",
          "exception": false,
          "start_time": "2021-06-25T21:17:06.965520",
          "status": "completed"
        },
        "tags": [],
        "id": "linear-nickel"
      },
      "source": [
        "# Dot Balls Played"
      ]
    },
    {
      "cell_type": "code",
      "execution_count": 21,
      "id": "alpine-excitement",
      "metadata": {
        "execution": {
          "iopub.execute_input": "2021-06-25T21:17:07.119667Z",
          "iopub.status.busy": "2021-06-25T21:17:07.118702Z",
          "iopub.status.idle": "2021-06-25T21:17:07.127612Z",
          "shell.execute_reply": "2021-06-25T21:17:07.128016Z",
          "shell.execute_reply.started": "2021-06-05T14:30:43.276788Z"
        },
        "papermill": {
          "duration": 0.064663,
          "end_time": "2021-06-25T21:17:07.128205",
          "exception": false,
          "start_time": "2021-06-25T21:17:07.063542",
          "status": "completed"
        },
        "tags": [],
        "id": "alpine-excitement"
      },
      "outputs": [],
      "source": [
        "#to store the number of dot balls played and the total number of balls played by each team, respectively.\n",
        "dot_balls_played = {}\n",
        "total_balls_played = {}\n",
        "for team, value in teams_df.items():\n",
        "    dot_balls_played[team]=value[value['runs']==0].shape[0]\n",
        "    total_balls_played[team]= value.shape[0]\n",
        "\n",
        "dot_ball_percentage ={}\n",
        "for team , value in dot_balls_played.items():\n",
        "    dot_ball_percentage[team] = (value/total_balls_played[team])*100\n",
        "\n",
        "# for team , value in dot_ball_percentage.items():\n",
        "#     print (f\"Team : {team} played {math.trunc(value)}% of dot balls\")"
      ]
    },
    {
      "cell_type": "code",
      "execution_count": 22,
      "id": "premier-center",
      "metadata": {
        "execution": {
          "iopub.execute_input": "2021-06-25T21:17:07.245202Z",
          "iopub.status.busy": "2021-06-25T21:17:07.244594Z",
          "iopub.status.idle": "2021-06-25T21:17:07.368664Z",
          "shell.execute_reply": "2021-06-25T21:17:07.368144Z",
          "shell.execute_reply.started": "2021-06-05T14:30:43.292265Z"
        },
        "papermill": {
          "duration": 0.19166,
          "end_time": "2021-06-25T21:17:07.368791",
          "exception": false,
          "start_time": "2021-06-25T21:17:07.177131",
          "status": "completed"
        },
        "tags": [],
        "colab": {
          "base_uri": "https://localhost:8080/",
          "height": 451
        },
        "id": "premier-center",
        "outputId": "fba58857-8841-4fa2-b18f-ffaeea5598f0"
      },
      "outputs": [
        {
          "output_type": "execute_result",
          "data": {
            "text/plain": [
              "<BarContainer object of 6 artists>"
            ]
          },
          "metadata": {},
          "execution_count": 22
        },
        {
          "output_type": "display_data",
          "data": {
            "text/plain": [
              "<Figure size 640x480 with 1 Axes>"
            ],
            "image/png": "[encoded data removed]"
          },
          "metadata": {}
        }
      ],
      "source": [
        "plt.barh(*zip(*dot_ball_percentage.items()), color= 'brown')"
      ]
    },
    {
      "cell_type": "markdown",
      "id": "returning-little",
      "metadata": {
        "papermill": {
          "duration": 0.048833,
          "end_time": "2021-06-25T21:17:07.468107",
          "exception": false,
          "start_time": "2021-06-25T21:17:07.419274",
          "status": "completed"
        },
        "tags": [],
        "id": "returning-little"
      },
      "source": [
        "#### Here, it shows that Lahore Qalanders played the most Dot balls."
      ]
    },
    {
      "cell_type": "markdown",
      "id": "convertible-malta",
      "metadata": {
        "papermill": {
          "duration": 0.048849,
          "end_time": "2021-06-25T21:17:07.567262",
          "exception": false,
          "start_time": "2021-06-25T21:17:07.518413",
          "status": "completed"
        },
        "tags": [],
        "id": "convertible-malta"
      },
      "source": [
        "# **Six Hit Per Team**"
      ]
    },
    {
      "cell_type": "code",
      "execution_count": 23,
      "id": "apart-assist",
      "metadata": {
        "execution": {
          "iopub.execute_input": "2021-06-25T21:17:07.700492Z",
          "iopub.status.busy": "2021-06-25T21:17:07.698840Z",
          "iopub.status.idle": "2021-06-25T21:17:07.812228Z",
          "shell.execute_reply": "2021-06-25T21:17:07.812632Z",
          "shell.execute_reply.started": "2021-06-05T14:30:43.467422Z"
        },
        "papermill": {
          "duration": 0.196028,
          "end_time": "2021-06-25T21:17:07.812798",
          "exception": false,
          "start_time": "2021-06-25T21:17:07.616770",
          "status": "completed"
        },
        "tags": [],
        "colab": {
          "base_uri": "https://localhost:8080/",
          "height": 451
        },
        "id": "apart-assist",
        "outputId": "b55d94c7-f97e-4d71-ea7d-e30604a65403"
      },
      "outputs": [
        {
          "output_type": "execute_result",
          "data": {
            "text/plain": [
              "<BarContainer object of 6 artists>"
            ]
          },
          "metadata": {},
          "execution_count": 23
        },
        {
          "output_type": "display_data",
          "data": {
            "text/plain": [
              "<Figure size 640x480 with 1 Axes>"
            ],
            "image/png": "[encoded data removed]"
          },
          "metadata": {}
        }
      ],
      "source": [
        "# to store the total number of sixes hit by each team\n",
        "six_per_team = {}\n",
        "for team, value in teams_df.items():\n",
        "    six_per_team[team] = value['is_six'].sum()\n",
        "\n",
        "six_per_match ={}\n",
        "for team ,value in six_per_team.items():\n",
        "    six_per_match[team] = value/team_matches[team]\n",
        "\n",
        "plt.bar(*zip(*six_per_match.items()),color=colors)"
      ]
    },
    {
      "cell_type": "markdown",
      "id": "unauthorized-blade",
      "metadata": {
        "papermill": {
          "duration": 0.050001,
          "end_time": "2021-06-25T21:17:07.913627",
          "exception": false,
          "start_time": "2021-06-25T21:17:07.863626",
          "status": "completed"
        },
        "tags": [],
        "id": "unauthorized-blade"
      },
      "source": [
        "#### Talking about sixes hit by the teams, Islamabad United placed the most sixes per match."
      ]
    },
    {
      "cell_type": "markdown",
      "source": [
        "## **Sixes per Team**"
      ],
      "metadata": {
        "id": "pGmASXoxCy_q"
      },
      "id": "pGmASXoxCy_q"
    },
    {
      "cell_type": "code",
      "execution_count": 24,
      "id": "varying-omega",
      "metadata": {
        "execution": {
          "iopub.execute_input": "2021-06-25T21:17:08.017514Z",
          "iopub.status.busy": "2021-06-25T21:17:08.016579Z",
          "iopub.status.idle": "2021-06-25T21:17:08.156723Z",
          "shell.execute_reply": "2021-06-25T21:17:08.157126Z",
          "shell.execute_reply.started": "2021-06-05T14:30:43.638002Z"
        },
        "papermill": {
          "duration": 0.19361,
          "end_time": "2021-06-25T21:17:08.157307",
          "exception": false,
          "start_time": "2021-06-25T21:17:07.963697",
          "status": "completed"
        },
        "tags": [],
        "colab": {
          "base_uri": "https://localhost:8080/",
          "height": 451
        },
        "id": "varying-omega",
        "outputId": "1e997894-e302-4bfc-87f7-227a14f246bc"
      },
      "outputs": [
        {
          "output_type": "execute_result",
          "data": {
            "text/plain": [
              "<BarContainer object of 6 artists>"
            ]
          },
          "metadata": {},
          "execution_count": 24
        },
        {
          "output_type": "display_data",
          "data": {
            "text/plain": [
              "<Figure size 640x480 with 1 Axes>"
            ],
            "image/png": "[encoded data removed]"
          },
          "metadata": {}
        }
      ],
      "source": [
        "plt.bar(*zip(*six_per_team.items()),color=colors)"
      ]
    },
    {
      "cell_type": "markdown",
      "id": "flying-handbook",
      "metadata": {
        "papermill": {
          "duration": 0.050231,
          "end_time": "2021-06-25T21:17:08.258110",
          "exception": false,
          "start_time": "2021-06-25T21:17:08.207879",
          "status": "completed"
        },
        "tags": [],
        "id": "flying-handbook"
      },
      "source": [
        "#### Talking about sixes hit by the teams, Peshawar Zalmi placed the most sixes per team."
      ]
    },
    {
      "cell_type": "markdown",
      "id": "welsh-degree",
      "metadata": {
        "papermill": {
          "duration": 0.050125,
          "end_time": "2021-06-25T21:17:08.358673",
          "exception": false,
          "start_time": "2021-06-25T21:17:08.308548",
          "status": "completed"
        },
        "tags": [],
        "id": "welsh-degree"
      },
      "source": [
        "# **Four Hit Per Team**"
      ]
    },
    {
      "cell_type": "code",
      "execution_count": 25,
      "id": "southeast-fisher",
      "metadata": {
        "execution": {
          "iopub.execute_input": "2021-06-25T21:17:08.462878Z",
          "iopub.status.busy": "2021-06-25T21:17:08.461967Z",
          "iopub.status.idle": "2021-06-25T21:17:08.594559Z",
          "shell.execute_reply": "2021-06-25T21:17:08.594935Z",
          "shell.execute_reply.started": "2021-06-05T14:30:43.81078Z"
        },
        "papermill": {
          "duration": 0.186186,
          "end_time": "2021-06-25T21:17:08.595119",
          "exception": false,
          "start_time": "2021-06-25T21:17:08.408933",
          "status": "completed"
        },
        "tags": [],
        "colab": {
          "base_uri": "https://localhost:8080/",
          "height": 451
        },
        "id": "southeast-fisher",
        "outputId": "f57ba904-8bf7-43fb-cffc-dc44d6ea762c"
      },
      "outputs": [
        {
          "output_type": "execute_result",
          "data": {
            "text/plain": [
              "<BarContainer object of 6 artists>"
            ]
          },
          "metadata": {},
          "execution_count": 25
        },
        {
          "output_type": "display_data",
          "data": {
            "text/plain": [
              "<Figure size 640x480 with 1 Axes>"
            ],
            "image/png": "[encoded data removed]"
          },
          "metadata": {}
        }
      ],
      "source": [
        "four_per_team = {}\n",
        "for team, value in teams_df.items():\n",
        "    four_per_team[team] = value['is_four'].sum()\n",
        "\n",
        "four_per_match ={}\n",
        "for team ,value in four_per_team.items():\n",
        "    four_per_match[team] = value/team_matches[team]\n",
        "\n",
        "plt.bar(*zip(*four_per_match.items()),color=colors)"
      ]
    },
    {
      "cell_type": "markdown",
      "id": "sharp-diesel",
      "metadata": {
        "papermill": {
          "duration": 0.050893,
          "end_time": "2021-06-25T21:17:08.697303",
          "exception": false,
          "start_time": "2021-06-25T21:17:08.646410",
          "status": "completed"
        },
        "tags": [],
        "id": "sharp-diesel"
      },
      "source": [
        "#### It seems a coincidence that all the teams scored almost similar number of fours per match."
      ]
    },
    {
      "cell_type": "markdown",
      "id": "individual-dakota",
      "metadata": {
        "papermill": {
          "duration": 0.051102,
          "end_time": "2021-06-25T21:17:08.799551",
          "exception": false,
          "start_time": "2021-06-25T21:17:08.748449",
          "status": "completed"
        },
        "tags": [],
        "id": "individual-dakota"
      },
      "source": [
        "# **Runs Scored Per Team**"
      ]
    },
    {
      "cell_type": "code",
      "execution_count": 26,
      "id": "sufficient-vatican",
      "metadata": {
        "execution": {
          "iopub.execute_input": "2021-06-25T21:17:08.907905Z",
          "iopub.status.busy": "2021-06-25T21:17:08.907031Z",
          "iopub.status.idle": "2021-06-25T21:17:09.047408Z",
          "shell.execute_reply": "2021-06-25T21:17:09.047801Z",
          "shell.execute_reply.started": "2021-06-05T14:30:43.984269Z"
        },
        "papermill": {
          "duration": 0.195748,
          "end_time": "2021-06-25T21:17:09.047972",
          "exception": false,
          "start_time": "2021-06-25T21:17:08.852224",
          "status": "completed"
        },
        "tags": [],
        "colab": {
          "base_uri": "https://localhost:8080/",
          "height": 451
        },
        "id": "sufficient-vatican",
        "outputId": "a966a932-1be7-4bbd-a6ea-086bc946c59e"
      },
      "outputs": [
        {
          "output_type": "execute_result",
          "data": {
            "text/plain": [
              "<BarContainer object of 6 artists>"
            ]
          },
          "metadata": {},
          "execution_count": 26
        },
        {
          "output_type": "display_data",
          "data": {
            "text/plain": [
              "<Figure size 640x480 with 1 Axes>"
            ],
            "image/png": "[encoded data removed]"
          },
          "metadata": {}
        }
      ],
      "source": [
        "runs_per_team = {}\n",
        "for team, value in teams_df.items():\n",
        "    runs_per_team[team] = value['runs'].sum()\n",
        "\n",
        "runs_per_match ={}\n",
        "for team ,value in runs_per_team.items():\n",
        "    runs_per_match[team] = value/team_matches[team]\n",
        "\n",
        "plt.bar(*zip(*runs_per_match.items()),color=colors)"
      ]
    },
    {
      "cell_type": "markdown",
      "id": "english-today",
      "metadata": {
        "papermill": {
          "duration": 0.053332,
          "end_time": "2021-06-25T21:17:09.153922",
          "exception": false,
          "start_time": "2021-06-25T21:17:09.100590",
          "status": "completed"
        },
        "tags": [],
        "id": "english-today"
      },
      "source": [
        "#### Here, again it seems that all the teams scored almost similar number of runs per match."
      ]
    },
    {
      "cell_type": "markdown",
      "id": "collectible-bread",
      "metadata": {
        "papermill": {
          "duration": 0.058189,
          "end_time": "2021-06-25T21:17:09.265006",
          "exception": false,
          "start_time": "2021-06-25T21:17:09.206817",
          "status": "completed"
        },
        "tags": [],
        "id": "collectible-bread"
      },
      "source": [
        "# **Wickets Per Team**"
      ]
    },
    {
      "cell_type": "code",
      "execution_count": 27,
      "id": "fifth-antarctica",
      "metadata": {
        "execution": {
          "iopub.execute_input": "2021-06-25T21:17:09.388903Z",
          "iopub.status.busy": "2021-06-25T21:17:09.388293Z",
          "iopub.status.idle": "2021-06-25T21:17:09.511129Z",
          "shell.execute_reply": "2021-06-25T21:17:09.511558Z",
          "shell.execute_reply.started": "2021-06-05T14:30:44.165358Z"
        },
        "papermill": {
          "duration": 0.194436,
          "end_time": "2021-06-25T21:17:09.511721",
          "exception": false,
          "start_time": "2021-06-25T21:17:09.317285",
          "status": "completed"
        },
        "tags": [],
        "colab": {
          "base_uri": "https://localhost:8080/",
          "height": 451
        },
        "id": "fifth-antarctica",
        "outputId": "be51ba62-ea6c-4300-f514-b324b21f456c"
      },
      "outputs": [
        {
          "output_type": "execute_result",
          "data": {
            "text/plain": [
              "<BarContainer object of 6 artists>"
            ]
          },
          "metadata": {},
          "execution_count": 27
        },
        {
          "output_type": "display_data",
          "data": {
            "text/plain": [
              "<Figure size 640x480 with 1 Axes>"
            ],
            "image/png": "[encoded data removed]"
          },
          "metadata": {}
        }
      ],
      "source": [
        "wickets_per_team = {}\n",
        "for team, value in teams_df.items():\n",
        "    wickets_per_team[team] = value['is_wicket'].sum()\n",
        "\n",
        "wickets_per_match ={}\n",
        "for team ,value in wickets_per_team.items():\n",
        "    wickets_per_match[team] = value/team_matches[team]\n",
        "\n",
        "plt.bar(*zip(*wickets_per_team.items()),color=colors)"
      ]
    },
    {
      "cell_type": "markdown",
      "id": "posted-cream",
      "metadata": {
        "papermill": {
          "duration": 0.053073,
          "end_time": "2021-06-25T21:17:09.618891",
          "exception": false,
          "start_time": "2021-06-25T21:17:09.565818",
          "status": "completed"
        },
        "tags": [],
        "id": "posted-cream"
      },
      "source": [
        "#### The above barchart shows that, Peshawar Zalmi had the most wickets being fallen per team."
      ]
    },
    {
      "cell_type": "markdown",
      "source": [
        "# **Wickets fallen per team**"
      ],
      "metadata": {
        "id": "tejpAqDSDzjY"
      },
      "id": "tejpAqDSDzjY"
    },
    {
      "cell_type": "code",
      "execution_count": 28,
      "id": "similar-remove",
      "metadata": {
        "execution": {
          "iopub.execute_input": "2021-06-25T21:17:09.743186Z",
          "iopub.status.busy": "2021-06-25T21:17:09.742584Z",
          "iopub.status.idle": "2021-06-25T21:17:09.858581Z",
          "shell.execute_reply": "2021-06-25T21:17:09.859044Z",
          "shell.execute_reply.started": "2021-06-05T14:30:44.343767Z"
        },
        "papermill": {
          "duration": 0.186742,
          "end_time": "2021-06-25T21:17:09.859225",
          "exception": false,
          "start_time": "2021-06-25T21:17:09.672483",
          "status": "completed"
        },
        "tags": [],
        "colab": {
          "base_uri": "https://localhost:8080/",
          "height": 451
        },
        "id": "similar-remove",
        "outputId": "85e9fb96-e3aa-4a16-a134-fbde2c90f2d9"
      },
      "outputs": [
        {
          "output_type": "execute_result",
          "data": {
            "text/plain": [
              "<BarContainer object of 6 artists>"
            ]
          },
          "metadata": {},
          "execution_count": 28
        },
        {
          "output_type": "display_data",
          "data": {
            "text/plain": [
              "<Figure size 640x480 with 1 Axes>"
            ],
            "image/png": "[encoded data removed]"
          },
          "metadata": {}
        }
      ],
      "source": [
        "plt.bar(*zip(*wickets_per_match.items()),color=colors)"
      ]
    },
    {
      "cell_type": "markdown",
      "id": "russian-antigua",
      "metadata": {
        "papermill": {
          "duration": 0.054387,
          "end_time": "2021-06-25T21:17:09.967784",
          "exception": false,
          "start_time": "2021-06-25T21:17:09.913397",
          "status": "completed"
        },
        "tags": [],
        "id": "russian-antigua"
      },
      "source": [
        "#### Her the above barchart shows that, Lahore Qalanders had the most wickets being fallen per match."
      ]
    },
    {
      "cell_type": "markdown",
      "id": "single-terrorist",
      "metadata": {
        "papermill": {
          "duration": 0.053927,
          "end_time": "2021-06-25T21:17:10.076066",
          "exception": false,
          "start_time": "2021-06-25T21:17:10.022139",
          "status": "completed"
        },
        "tags": [],
        "id": "single-terrorist"
      },
      "source": [
        "# **Defining Functions to bulit Prediction Model**"
      ]
    },
    {
      "cell_type": "code",
      "execution_count": 29,
      "id": "sharing-coverage",
      "metadata": {
        "execution": {
          "iopub.execute_input": "2021-06-25T21:17:10.188235Z",
          "iopub.status.busy": "2021-06-25T21:17:10.187650Z",
          "iopub.status.idle": "2021-06-25T21:17:10.191778Z",
          "shell.execute_reply": "2021-06-25T21:17:10.192307Z",
          "shell.execute_reply.started": "2021-06-05T14:30:44.511832Z"
        },
        "papermill": {
          "duration": 0.061573,
          "end_time": "2021-06-25T21:17:10.192467",
          "exception": false,
          "start_time": "2021-06-25T21:17:10.130894",
          "status": "completed"
        },
        "tags": [],
        "id": "sharing-coverage"
      },
      "outputs": [],
      "source": [
        "# Method to calculate if the team batting second won or not\n",
        "def is_winner(row):\n",
        "    if type(row['result']) == str:\n",
        "        if row['result'] in row['team_2']:\n",
        "            return 1\n",
        "        return 0\n",
        "    else:\n",
        "        return 0"
      ]
    },
    {
      "cell_type": "code",
      "execution_count": 30,
      "id": "mechanical-label",
      "metadata": {
        "execution": {
          "iopub.execute_input": "2021-06-25T21:17:10.304324Z",
          "iopub.status.busy": "2021-06-25T21:17:10.303576Z",
          "iopub.status.idle": "2021-06-25T21:17:10.307285Z",
          "shell.execute_reply": "2021-06-25T21:17:10.307764Z",
          "shell.execute_reply.started": "2021-06-05T14:30:44.524063Z"
        },
        "papermill": {
          "duration": 0.061193,
          "end_time": "2021-06-25T21:17:10.307927",
          "exception": false,
          "start_time": "2021-06-25T21:17:10.246734",
          "status": "completed"
        },
        "tags": [],
        "id": "mechanical-label"
      },
      "outputs": [],
      "source": [
        "# Method to calculate if a player was dismissed on this ball or not\n",
        "def is_out(row):\n",
        "    if type(row['player_dismissed']) == str:\n",
        "        return 1\n",
        "    else:\n",
        "        return 0"
      ]
    },
    {
      "cell_type": "markdown",
      "id": "mathematical-console",
      "metadata": {
        "papermill": {
          "duration": 0.05397,
          "end_time": "2021-06-25T21:17:10.415742",
          "exception": false,
          "start_time": "2021-06-25T21:17:10.361772",
          "status": "completed"
        },
        "tags": [],
        "id": "mathematical-console"
      },
      "source": [
        "# **Data Manipulation to Extract Important Features**"
      ]
    },
    {
      "cell_type": "code",
      "execution_count": 31,
      "id": "located-answer",
      "metadata": {
        "execution": {
          "iopub.execute_input": "2021-06-25T21:17:10.529191Z",
          "iopub.status.busy": "2021-06-25T21:17:10.528546Z",
          "iopub.status.idle": "2021-06-25T21:17:10.537912Z",
          "shell.execute_reply": "2021-06-25T21:17:10.537405Z",
          "shell.execute_reply.started": "2021-06-05T14:30:44.533829Z"
        },
        "papermill": {
          "duration": 0.068048,
          "end_time": "2021-06-25T21:17:10.538059",
          "exception": false,
          "start_time": "2021-06-25T21:17:10.470011",
          "status": "completed"
        },
        "tags": [],
        "id": "located-answer"
      },
      "outputs": [],
      "source": [
        "# Splitting on Innings\n",
        "first_inning = df[df['inning']==1]\n",
        "second_inning = df[df['inning']==2]"
      ]
    },
    {
      "cell_type": "code",
      "execution_count": 32,
      "id": "skilled-privilege",
      "metadata": {
        "execution": {
          "iopub.execute_input": "2021-06-25T21:17:10.654624Z",
          "iopub.status.busy": "2021-06-25T21:17:10.653496Z",
          "iopub.status.idle": "2021-06-25T21:17:10.664496Z",
          "shell.execute_reply": "2021-06-25T21:17:10.663995Z",
          "shell.execute_reply.started": "2021-06-05T14:30:44.555835Z"
        },
        "papermill": {
          "duration": 0.071352,
          "end_time": "2021-06-25T21:17:10.664621",
          "exception": false,
          "start_time": "2021-06-25T21:17:10.593269",
          "status": "completed"
        },
        "tags": [],
        "id": "skilled-privilege"
      },
      "outputs": [],
      "source": [
        "# Calculating Target\n",
        "total_sum = first_inning.groupby([\"psl_year\",\"match_number\"]).agg(\n",
        "   target= (\"runs\",\"sum\")\n",
        ")"
      ]
    },
    {
      "cell_type": "code",
      "execution_count": 44,
      "id": "hawaiian-dancing",
      "metadata": {
        "execution": {
          "iopub.execute_input": "2021-06-25T21:17:10.778654Z",
          "iopub.status.busy": "2021-06-25T21:17:10.778089Z",
          "iopub.status.idle": "2021-06-25T21:17:10.781377Z",
          "shell.execute_reply": "2021-06-25T21:17:10.780899Z",
          "shell.execute_reply.started": "2021-06-05T14:30:44.574368Z"
        },
        "papermill": {
          "duration": 0.062947,
          "end_time": "2021-06-25T21:17:10.781505",
          "exception": false,
          "start_time": "2021-06-25T21:17:10.718558",
          "status": "completed"
        },
        "tags": [],
        "id": "hawaiian-dancing"
      },
      "outputs": [],
      "source": [
        "total_sum = total_sum.reset_index()"
      ]
    },
    {
      "cell_type": "code",
      "execution_count": 33,
      "id": "divided-pressing",
      "metadata": {
        "execution": {
          "iopub.execute_input": "2021-06-25T21:17:10.896264Z",
          "iopub.status.busy": "2021-06-25T21:17:10.895331Z",
          "iopub.status.idle": "2021-06-25T21:17:10.916059Z",
          "shell.execute_reply": "2021-06-25T21:17:10.915440Z",
          "shell.execute_reply.started": "2021-06-05T14:30:44.582044Z"
        },
        "papermill": {
          "duration": 0.080603,
          "end_time": "2021-06-25T21:17:10.916213",
          "exception": false,
          "start_time": "2021-06-25T21:17:10.835610",
          "status": "completed"
        },
        "tags": [],
        "id": "divided-pressing"
      },
      "outputs": [],
      "source": [
        "# Merging the DF\n",
        "new_df = pd.merge(total_sum, second_inning,  how='left', left_on=['psl_year','match_number'], right_on = ['psl_year','match_number'])"
      ]
    },
    {
      "cell_type": "code",
      "execution_count": 34,
      "id": "biological-twins",
      "metadata": {
        "execution": {
          "iopub.execute_input": "2021-06-25T21:17:11.032006Z",
          "iopub.status.busy": "2021-06-25T21:17:11.031004Z",
          "iopub.status.idle": "2021-06-25T21:17:11.273126Z",
          "shell.execute_reply": "2021-06-25T21:17:11.272605Z",
          "shell.execute_reply.started": "2021-06-05T14:30:44.610085Z"
        },
        "papermill": {
          "duration": 0.302069,
          "end_time": "2021-06-25T21:17:11.273260",
          "exception": false,
          "start_time": "2021-06-25T21:17:10.971191",
          "status": "completed"
        },
        "tags": [],
        "id": "biological-twins"
      },
      "outputs": [],
      "source": [
        "# Calculating if Second Inning team won or not \n",
        "new_df['won'] = new_df.apply(is_winner, axis=1)"
      ]
    },
    {
      "cell_type": "code",
      "execution_count": 35,
      "id": "devoted-retirement",
      "metadata": {
        "execution": {
          "iopub.execute_input": "2021-06-25T21:17:11.386269Z",
          "iopub.status.busy": "2021-06-25T21:17:11.385700Z",
          "iopub.status.idle": "2021-06-25T21:17:11.392584Z",
          "shell.execute_reply": "2021-06-25T21:17:11.392122Z",
          "shell.execute_reply.started": "2021-06-05T14:30:45.023629Z"
        },
        "papermill": {
          "duration": 0.065581,
          "end_time": "2021-06-25T21:17:11.392718",
          "exception": false,
          "start_time": "2021-06-25T21:17:11.327137",
          "status": "completed"
        },
        "tags": [],
        "id": "devoted-retirement"
      },
      "outputs": [],
      "source": [
        "# Calculating balls left\n",
        "new_df['balls_left'] = 120-(((new_df['over']-1)*6)+new_df['ball'])"
      ]
    },
    {
      "cell_type": "code",
      "execution_count": 36,
      "id": "chubby-representation",
      "metadata": {
        "execution": {
          "iopub.execute_input": "2021-06-25T21:17:11.506121Z",
          "iopub.status.busy": "2021-06-25T21:17:11.505512Z",
          "iopub.status.idle": "2021-06-25T21:17:11.510456Z",
          "shell.execute_reply": "2021-06-25T21:17:11.510862Z",
          "shell.execute_reply.started": "2021-06-05T14:30:45.040572Z"
        },
        "papermill": {
          "duration": 0.064192,
          "end_time": "2021-06-25T21:17:11.511027",
          "exception": false,
          "start_time": "2021-06-25T21:17:11.446835",
          "status": "completed"
        },
        "tags": [],
        "id": "chubby-representation"
      },
      "outputs": [],
      "source": [
        "# Creating the Final Dataset\n",
        "final_df = new_df[['over','ball','total_runs','wickets','target','balls_left','won']]"
      ]
    },
    {
      "cell_type": "code",
      "execution_count": 38,
      "id": "polar-visiting",
      "metadata": {
        "execution": {
          "iopub.execute_input": "2021-06-25T21:17:11.632183Z",
          "iopub.status.busy": "2021-06-25T21:17:11.631260Z",
          "iopub.status.idle": "2021-06-25T21:17:11.635391Z",
          "shell.execute_reply": "2021-06-25T21:17:11.634864Z",
          "shell.execute_reply.started": "2021-06-05T14:30:45.051221Z"
        },
        "papermill": {
          "duration": 0.070424,
          "end_time": "2021-06-25T21:17:11.635528",
          "exception": false,
          "start_time": "2021-06-25T21:17:11.565104",
          "status": "completed"
        },
        "tags": [],
        "colab": {
          "base_uri": "https://localhost:8080/",
          "height": 206
        },
        "id": "polar-visiting",
        "outputId": "46d94122-e48e-4bd3-9eea-f4cf1752da91"
      },
      "outputs": [
        {
          "output_type": "execute_result",
          "data": {
            "text/plain": [
              "   over  ball  total_runs  wickets  target  balls_left  won\n",
              "0   1.0   1.0         0.0      0.0     128       119.0    1\n",
              "1   1.0   2.0         0.0      0.0     128       118.0    1\n",
              "2   1.0   3.0         0.0      0.0     128       117.0    1\n",
              "3   1.0   4.0         2.0      0.0     128       116.0    1\n",
              "4   1.0   5.0         2.0      0.0     128       115.0    1"
            ],
            "text/html": [
              "\n",
              "  <div id=\"df-b832e42b-de23-4382-8dd2-0787ad284c31\">\n",
              "    <div class=\"colab-df-container\">\n",
              "      <div>\n",
              "<style scoped>\n",
              "    .dataframe tbody tr th:only-of-type {\n",
              "        vertical-align: middle;\n",
              "    }\n",
              "\n",
              "    .dataframe tbody tr th {\n",
              "        vertical-align: top;\n",
              "    }\n",
              "\n",
              "    .dataframe thead th {\n",
              "        text-align: right;\n",
              "    }\n",
              "</style>\n",
              "<table border=\"1\" class=\"dataframe\">\n",
              "  <thead>\n",
              "    <tr style=\"text-align: right;\">\n",
              "      <th></th>\n",
              "      <th>over</th>\n",
              "      <th>ball</th>\n",
              "      <th>total_runs</th>\n",
              "      <th>wickets</th>\n",
              "      <th>target</th>\n",
              "      <th>balls_left</th>\n",
              "      <th>won</th>\n",
              "    </tr>\n",
              "  </thead>\n",
              "  <tbody>\n",
              "    <tr>\n",
              "      <th>0</th>\n",
              "      <td>1.0</td>\n",
              "      <td>1.0</td>\n",
              "      <td>0.0</td>\n",
              "      <td>0.0</td>\n",
              "      <td>128</td>\n",
              "      <td>119.0</td>\n",
              "      <td>1</td>\n",
              "    </tr>\n",
              "    <tr>\n",
              "      <th>1</th>\n",
              "      <td>1.0</td>\n",
              "      <td>2.0</td>\n",
              "      <td>0.0</td>\n",
              "      <td>0.0</td>\n",
              "      <td>128</td>\n",
              "      <td>118.0</td>\n",
              "      <td>1</td>\n",
              "    </tr>\n",
              "    <tr>\n",
              "      <th>2</th>\n",
              "      <td>1.0</td>\n",
              "      <td>3.0</td>\n",
              "      <td>0.0</td>\n",
              "      <td>0.0</td>\n",
              "      <td>128</td>\n",
              "      <td>117.0</td>\n",
              "      <td>1</td>\n",
              "    </tr>\n",
              "    <tr>\n",
              "      <th>3</th>\n",
              "      <td>1.0</td>\n",
              "      <td>4.0</td>\n",
              "      <td>2.0</td>\n",
              "      <td>0.0</td>\n",
              "      <td>128</td>\n",
              "      <td>116.0</td>\n",
              "      <td>1</td>\n",
              "    </tr>\n",
              "    <tr>\n",
              "      <th>4</th>\n",
              "      <td>1.0</td>\n",
              "      <td>5.0</td>\n",
              "      <td>2.0</td>\n",
              "      <td>0.0</td>\n",
              "      <td>128</td>\n",
              "      <td>115.0</td>\n",
              "      <td>1</td>\n",
              "    </tr>\n",
              "  </tbody>\n",
              "</table>\n",
              "</div>\n",
              "      <button class=\"colab-df-convert\" onclick=\"convertToInteractive('df-b832e42b-de23-4382-8dd2-0787ad284c31')\"\n",
              "              title=\"Convert this dataframe to an interactive table.\"\n",
              "              style=\"display:none;\">\n",
              "        \n",
              "  <svg xmlns=\"http://www.w3.org/2000/svg\" height=\"24px\"viewBox=\"0 0 24 24\"\n",
              "       width=\"24px\">\n",
              "    <path d=\"M0 0h24v24H0V0z\" fill=\"none\"/>\n",
              "    <path d=\"M18.56 5.44l.94 2.06.94-2.06 2.06-.94-2.06-.94-.94-2.06-.94 2.06-2.06.94zm-11 1L8.5 8.5l.94-2.06 2.06-.94-2.06-.94L8.5 2.5l-.94 2.06-2.06.94zm10 10l.94 2.06.94-2.06 2.06-.94-2.06-.94-.94-2.06-.94 2.06-2.06.94z\"/><path d=\"M17.41 7.96l-1.37-1.37c-.4-.4-.92-.59-1.43-.59-.52 0-1.04.2-1.43.59L10.3 9.45l-7.72 7.72c-.78.78-.78 2.05 0 2.83L4 21.41c.39.39.9.59 1.41.59.51 0 1.02-.2 1.41-.59l7.78-7.78 2.81-2.81c.8-.78.8-2.07 0-2.86zM5.41 20L4 18.59l7.72-7.72 1.47 1.35L5.41 20z\"/>\n",
              "  </svg>\n",
              "      </button>\n",
              "      \n",
              "  <style>\n",
              "    .colab-df-container {\n",
              "      display:flex;\n",
              "      flex-wrap:wrap;\n",
              "      gap: 12px;\n",
              "    }\n",
              "\n",
              "    .colab-df-convert {\n",
              "      background-color: #E8F0FE;\n",
              "      border: none;\n",
              "      border-radius: 50%;\n",
              "      cursor: pointer;\n",
              "      display: none;\n",
              "      fill: #1967D2;\n",
              "      height: 32px;\n",
              "      padding: 0 0 0 0;\n",
              "      width: 32px;\n",
              "    }\n",
              "\n",
              "    .colab-df-convert:hover {\n",
              "      background-color: #E2EBFA;\n",
              "      box-shadow: 0px 1px 2px rgba(60, 64, 67, 0.3), 0px 1px 3px 1px rgba(60, 64, 67, 0.15);\n",
              "      fill: #174EA6;\n",
              "    }\n",
              "\n",
              "    [theme=dark] .colab-df-convert {\n",
              "      background-color: #3B4455;\n",
              "      fill: #D2E3FC;\n",
              "    }\n",
              "\n",
              "    [theme=dark] .colab-df-convert:hover {\n",
              "      background-color: #434B5C;\n",
              "      box-shadow: 0px 1px 3px 1px rgba(0, 0, 0, 0.15);\n",
              "      filter: drop-shadow(0px 1px 2px rgba(0, 0, 0, 0.3));\n",
              "      fill: #FFFFFF;\n",
              "    }\n",
              "  </style>\n",
              "\n",
              "      <script>\n",
              "        const buttonEl =\n",
              "          document.querySelector('#df-b832e42b-de23-4382-8dd2-0787ad284c31 button.colab-df-convert');\n",
              "        buttonEl.style.display =\n",
              "          google.colab.kernel.accessAllowed ? 'block' : 'none';\n",
              "\n",
              "        async function convertToInteractive(key) {\n",
              "          const element = document.querySelector('#df-b832e42b-de23-4382-8dd2-0787ad284c31');\n",
              "          const dataTable =\n",
              "            await google.colab.kernel.invokeFunction('convertToInteractive',\n",
              "                                                     [key], {});\n",
              "          if (!dataTable) return;\n",
              "\n",
              "          const docLinkHtml = 'Like what you see? Visit the ' +\n",
              "            '<a target=\"_blank\" href=https://colab.research.google.com/notebooks/data_table.ipynb>data table notebook</a>'\n",
              "            + ' to learn more about interactive tables.';\n",
              "          element.innerHTML = '';\n",
              "          dataTable['output_type'] = 'display_data';\n",
              "          await google.colab.output.renderOutput(dataTable, element);\n",
              "          const docLink = document.createElement('div');\n",
              "          docLink.innerHTML = docLinkHtml;\n",
              "          element.appendChild(docLink);\n",
              "        }\n",
              "      </script>\n",
              "    </div>\n",
              "  </div>\n",
              "  "
            ]
          },
          "metadata": {},
          "execution_count": 38
        }
      ],
      "source": [
        "final_df.head()"
      ]
    },
    {
      "cell_type": "code",
      "execution_count": 39,
      "id": "handed-visiting",
      "metadata": {
        "execution": {
          "iopub.execute_input": "2021-06-25T21:17:11.749932Z",
          "iopub.status.busy": "2021-06-25T21:17:11.749369Z",
          "iopub.status.idle": "2021-06-25T21:17:11.752988Z",
          "shell.execute_reply": "2021-06-25T21:17:11.752445Z",
          "shell.execute_reply.started": "2021-06-05T14:30:45.074705Z"
        },
        "papermill": {
          "duration": 0.063312,
          "end_time": "2021-06-25T21:17:11.753146",
          "exception": false,
          "start_time": "2021-06-25T21:17:11.689834",
          "status": "completed"
        },
        "tags": [],
        "id": "handed-visiting"
      },
      "outputs": [],
      "source": [
        "final_df['runs_left'] = final_df['target']- final_df['total_runs']"
      ]
    },
    {
      "cell_type": "markdown",
      "source": [
        "## **Heat Map**"
      ],
      "metadata": {
        "id": "DN1bCAYdEgJo"
      },
      "id": "DN1bCAYdEgJo"
    },
    {
      "cell_type": "code",
      "execution_count": 40,
      "id": "higher-louisiana",
      "metadata": {
        "execution": {
          "iopub.execute_input": "2021-06-25T21:17:11.865733Z",
          "iopub.status.busy": "2021-06-25T21:17:11.865170Z",
          "iopub.status.idle": "2021-06-25T21:17:12.427219Z",
          "shell.execute_reply": "2021-06-25T21:17:12.426607Z",
          "shell.execute_reply.started": "2021-06-05T14:42:57.966639Z"
        },
        "papermill": {
          "duration": 0.619536,
          "end_time": "2021-06-25T21:17:12.427355",
          "exception": false,
          "start_time": "2021-06-25T21:17:11.807819",
          "status": "completed"
        },
        "tags": [],
        "colab": {
          "base_uri": "https://localhost:8080/",
          "height": 502
        },
        "id": "higher-louisiana",
        "outputId": "98d21af6-499e-42d7-8af3-4a7491ca948a"
      },
      "outputs": [
        {
          "output_type": "display_data",
          "data": {
            "text/plain": [
              "<Figure size 640x480 with 2 Axes>"
            ],
            "image/png": "[encoded data removed]"
          },
          "metadata": {}
        }
      ],
      "source": [
        "corrMatrix = final_df.corr()\n",
        "sns.heatmap(corrMatrix, annot=True)\n",
        "plt.show()"
      ]
    },
    {
      "cell_type": "markdown",
      "id": "remarkable-internet",
      "metadata": {
        "papermill": {
          "duration": 0.056146,
          "end_time": "2021-06-25T21:17:12.539792",
          "exception": false,
          "start_time": "2021-06-25T21:17:12.483646",
          "status": "completed"
        },
        "tags": [],
        "id": "remarkable-internet"
      },
      "source": [
        "## **Selecting particular columns for our model**"
      ]
    },
    {
      "cell_type": "code",
      "execution_count": 41,
      "id": "crucial-audio",
      "metadata": {
        "execution": {
          "iopub.execute_input": "2021-06-25T21:17:12.656640Z",
          "iopub.status.busy": "2021-06-25T21:17:12.655998Z",
          "iopub.status.idle": "2021-06-25T21:17:12.658950Z",
          "shell.execute_reply": "2021-06-25T21:17:12.658414Z",
          "shell.execute_reply.started": "2021-06-05T14:30:45.09112Z"
        },
        "papermill": {
          "duration": 0.06299,
          "end_time": "2021-06-25T21:17:12.659091",
          "exception": false,
          "start_time": "2021-06-25T21:17:12.596101",
          "status": "completed"
        },
        "tags": [],
        "id": "crucial-audio"
      },
      "outputs": [],
      "source": [
        "new_cols =['wickets','balls_left','runs_left','won']"
      ]
    },
    {
      "cell_type": "code",
      "execution_count": 42,
      "id": "ordered-vietnamese",
      "metadata": {
        "execution": {
          "iopub.execute_input": "2021-06-25T21:17:12.776021Z",
          "iopub.status.busy": "2021-06-25T21:17:12.775415Z",
          "iopub.status.idle": "2021-06-25T21:17:12.785435Z",
          "shell.execute_reply": "2021-06-25T21:17:12.785884Z",
          "shell.execute_reply.started": "2021-06-05T14:30:45.106087Z"
        },
        "papermill": {
          "duration": 0.071169,
          "end_time": "2021-06-25T21:17:12.786037",
          "exception": false,
          "start_time": "2021-06-25T21:17:12.714868",
          "status": "completed"
        },
        "tags": [],
        "colab": {
          "base_uri": "https://localhost:8080/",
          "height": 206
        },
        "id": "ordered-vietnamese",
        "outputId": "e41a5bf2-3630-4826-df23-5b832733cab7"
      },
      "outputs": [
        {
          "output_type": "execute_result",
          "data": {
            "text/plain": [
              "   wickets  balls_left  runs_left  won\n",
              "0      0.0       119.0      128.0    1\n",
              "1      0.0       118.0      128.0    1\n",
              "2      0.0       117.0      128.0    1\n",
              "3      0.0       116.0      126.0    1\n",
              "4      0.0       115.0      126.0    1"
            ],
            "text/html": [
              "\n",
              "  <div id=\"df-b6c8e11b-9fa3-446c-a6a4-27aecfdd73ca\">\n",
              "    <div class=\"colab-df-container\">\n",
              "      <div>\n",
              "<style scoped>\n",
              "    .dataframe tbody tr th:only-of-type {\n",
              "        vertical-align: middle;\n",
              "    }\n",
              "\n",
              "    .dataframe tbody tr th {\n",
              "        vertical-align: top;\n",
              "    }\n",
              "\n",
              "    .dataframe thead th {\n",
              "        text-align: right;\n",
              "    }\n",
              "</style>\n",
              "<table border=\"1\" class=\"dataframe\">\n",
              "  <thead>\n",
              "    <tr style=\"text-align: right;\">\n",
              "      <th></th>\n",
              "      <th>wickets</th>\n",
              "      <th>balls_left</th>\n",
              "      <th>runs_left</th>\n",
              "      <th>won</th>\n",
              "    </tr>\n",
              "  </thead>\n",
              "  <tbody>\n",
              "    <tr>\n",
              "      <th>0</th>\n",
              "      <td>0.0</td>\n",
              "      <td>119.0</td>\n",
              "      <td>128.0</td>\n",
              "      <td>1</td>\n",
              "    </tr>\n",
              "    <tr>\n",
              "      <th>1</th>\n",
              "      <td>0.0</td>\n",
              "      <td>118.0</td>\n",
              "      <td>128.0</td>\n",
              "      <td>1</td>\n",
              "    </tr>\n",
              "    <tr>\n",
              "      <th>2</th>\n",
              "      <td>0.0</td>\n",
              "      <td>117.0</td>\n",
              "      <td>128.0</td>\n",
              "      <td>1</td>\n",
              "    </tr>\n",
              "    <tr>\n",
              "      <th>3</th>\n",
              "      <td>0.0</td>\n",
              "      <td>116.0</td>\n",
              "      <td>126.0</td>\n",
              "      <td>1</td>\n",
              "    </tr>\n",
              "    <tr>\n",
              "      <th>4</th>\n",
              "      <td>0.0</td>\n",
              "      <td>115.0</td>\n",
              "      <td>126.0</td>\n",
              "      <td>1</td>\n",
              "    </tr>\n",
              "  </tbody>\n",
              "</table>\n",
              "</div>\n",
              "      <button class=\"colab-df-convert\" onclick=\"convertToInteractive('df-b6c8e11b-9fa3-446c-a6a4-27aecfdd73ca')\"\n",
              "              title=\"Convert this dataframe to an interactive table.\"\n",
              "              style=\"display:none;\">\n",
              "        \n",
              "  <svg xmlns=\"http://www.w3.org/2000/svg\" height=\"24px\"viewBox=\"0 0 24 24\"\n",
              "       width=\"24px\">\n",
              "    <path d=\"M0 0h24v24H0V0z\" fill=\"none\"/>\n",
              "    <path d=\"M18.56 5.44l.94 2.06.94-2.06 2.06-.94-2.06-.94-.94-2.06-.94 2.06-2.06.94zm-11 1L8.5 8.5l.94-2.06 2.06-.94-2.06-.94L8.5 2.5l-.94 2.06-2.06.94zm10 10l.94 2.06.94-2.06 2.06-.94-2.06-.94-.94-2.06-.94 2.06-2.06.94z\"/><path d=\"M17.41 7.96l-1.37-1.37c-.4-.4-.92-.59-1.43-.59-.52 0-1.04.2-1.43.59L10.3 9.45l-7.72 7.72c-.78.78-.78 2.05 0 2.83L4 21.41c.39.39.9.59 1.41.59.51 0 1.02-.2 1.41-.59l7.78-7.78 2.81-2.81c.8-.78.8-2.07 0-2.86zM5.41 20L4 18.59l7.72-7.72 1.47 1.35L5.41 20z\"/>\n",
              "  </svg>\n",
              "      </button>\n",
              "      \n",
              "  <style>\n",
              "    .colab-df-container {\n",
              "      display:flex;\n",
              "      flex-wrap:wrap;\n",
              "      gap: 12px;\n",
              "    }\n",
              "\n",
              "    .colab-df-convert {\n",
              "      background-color: #E8F0FE;\n",
              "      border: none;\n",
              "      border-radius: 50%;\n",
              "      cursor: pointer;\n",
              "      display: none;\n",
              "      fill: #1967D2;\n",
              "      height: 32px;\n",
              "      padding: 0 0 0 0;\n",
              "      width: 32px;\n",
              "    }\n",
              "\n",
              "    .colab-df-convert:hover {\n",
              "      background-color: #E2EBFA;\n",
              "      box-shadow: 0px 1px 2px rgba(60, 64, 67, 0.3), 0px 1px 3px 1px rgba(60, 64, 67, 0.15);\n",
              "      fill: #174EA6;\n",
              "    }\n",
              "\n",
              "    [theme=dark] .colab-df-convert {\n",
              "      background-color: #3B4455;\n",
              "      fill: #D2E3FC;\n",
              "    }\n",
              "\n",
              "    [theme=dark] .colab-df-convert:hover {\n",
              "      background-color: #434B5C;\n",
              "      box-shadow: 0px 1px 3px 1px rgba(0, 0, 0, 0.15);\n",
              "      filter: drop-shadow(0px 1px 2px rgba(0, 0, 0, 0.3));\n",
              "      fill: #FFFFFF;\n",
              "    }\n",
              "  </style>\n",
              "\n",
              "      <script>\n",
              "        const buttonEl =\n",
              "          document.querySelector('#df-b6c8e11b-9fa3-446c-a6a4-27aecfdd73ca button.colab-df-convert');\n",
              "        buttonEl.style.display =\n",
              "          google.colab.kernel.accessAllowed ? 'block' : 'none';\n",
              "\n",
              "        async function convertToInteractive(key) {\n",
              "          const element = document.querySelector('#df-b6c8e11b-9fa3-446c-a6a4-27aecfdd73ca');\n",
              "          const dataTable =\n",
              "            await google.colab.kernel.invokeFunction('convertToInteractive',\n",
              "                                                     [key], {});\n",
              "          if (!dataTable) return;\n",
              "\n",
              "          const docLinkHtml = 'Like what you see? Visit the ' +\n",
              "            '<a target=\"_blank\" href=https://colab.research.google.com/notebooks/data_table.ipynb>data table notebook</a>'\n",
              "            + ' to learn more about interactive tables.';\n",
              "          element.innerHTML = '';\n",
              "          dataTable['output_type'] = 'display_data';\n",
              "          await google.colab.output.renderOutput(dataTable, element);\n",
              "          const docLink = document.createElement('div');\n",
              "          docLink.innerHTML = docLinkHtml;\n",
              "          element.appendChild(docLink);\n",
              "        }\n",
              "      </script>\n",
              "    </div>\n",
              "  </div>\n",
              "  "
            ]
          },
          "metadata": {},
          "execution_count": 42
        }
      ],
      "source": [
        "psl_df = final_df[new_cols]\n",
        "psl_df.head()"
      ]
    },
    {
      "cell_type": "code",
      "execution_count": 43,
      "id": "plain-attendance",
      "metadata": {
        "execution": {
          "iopub.execute_input": "2021-06-25T21:17:12.902513Z",
          "iopub.status.busy": "2021-06-25T21:17:12.901935Z",
          "iopub.status.idle": "2021-06-25T21:17:12.909267Z",
          "shell.execute_reply": "2021-06-25T21:17:12.909700Z",
          "shell.execute_reply.started": "2021-06-05T14:30:45.131786Z"
        },
        "papermill": {
          "duration": 0.067664,
          "end_time": "2021-06-25T21:17:12.909870",
          "exception": false,
          "start_time": "2021-06-25T21:17:12.842206",
          "status": "completed"
        },
        "tags": [],
        "colab": {
          "base_uri": "https://localhost:8080/"
        },
        "id": "plain-attendance",
        "outputId": "9c8d8b27-4df4-4ac4-e1fb-17a9d2bd7b90"
      },
      "outputs": [
        {
          "output_type": "execute_result",
          "data": {
            "text/plain": [
              "wickets       2\n",
              "balls_left    2\n",
              "runs_left     2\n",
              "won           0\n",
              "dtype: int64"
            ]
          },
          "metadata": {},
          "execution_count": 43
        }
      ],
      "source": [
        "psl_df.isnull().sum()"
      ]
    },
    {
      "cell_type": "code",
      "execution_count": 44,
      "id": "touched-nothing",
      "metadata": {
        "execution": {
          "iopub.execute_input": "2021-06-25T21:17:13.026133Z",
          "iopub.status.busy": "2021-06-25T21:17:13.025498Z",
          "iopub.status.idle": "2021-06-25T21:17:13.029555Z",
          "shell.execute_reply": "2021-06-25T21:17:13.029963Z",
          "shell.execute_reply.started": "2021-06-05T14:30:45.144765Z"
        },
        "papermill": {
          "duration": 0.063606,
          "end_time": "2021-06-25T21:17:13.030206",
          "exception": false,
          "start_time": "2021-06-25T21:17:12.966600",
          "status": "completed"
        },
        "tags": [],
        "colab": {
          "base_uri": "https://localhost:8080/"
        },
        "id": "touched-nothing",
        "outputId": "db016727-642f-49c8-ca15-4e73942c13e3"
      },
      "outputs": [
        {
          "output_type": "execute_result",
          "data": {
            "text/plain": [
              "(16318, 4)"
            ]
          },
          "metadata": {},
          "execution_count": 44
        }
      ],
      "source": [
        "\n",
        "psl_df.shape"
      ]
    },
    {
      "cell_type": "code",
      "execution_count": 45,
      "id": "medieval-setup",
      "metadata": {
        "execution": {
          "iopub.execute_input": "2021-06-25T21:17:13.147141Z",
          "iopub.status.busy": "2021-06-25T21:17:13.146553Z",
          "iopub.status.idle": "2021-06-25T21:17:13.155103Z",
          "shell.execute_reply": "2021-06-25T21:17:13.155548Z",
          "shell.execute_reply.started": "2021-06-05T14:30:45.159897Z"
        },
        "papermill": {
          "duration": 0.068984,
          "end_time": "2021-06-25T21:17:13.155711",
          "exception": false,
          "start_time": "2021-06-25T21:17:13.086727",
          "status": "completed"
        },
        "tags": [],
        "id": "medieval-setup"
      },
      "outputs": [],
      "source": [
        "# function to convert all values in the DataFrame to numeric type.\n",
        "#errors='coerce' parameter tells the function to set any non-numeric values to NaN.\n",
        "psl_df = psl_df.apply (pd.to_numeric, errors='coerce')\n",
        "# drops any rows containing NaN values. \n",
        "psl_df = psl_df.dropna()"
      ]
    },
    {
      "cell_type": "code",
      "execution_count": 46,
      "id": "cellular-bouquet",
      "metadata": {
        "execution": {
          "iopub.execute_input": "2021-06-25T21:17:13.272886Z",
          "iopub.status.busy": "2021-06-25T21:17:13.272308Z",
          "iopub.status.idle": "2021-06-25T21:17:13.277048Z",
          "shell.execute_reply": "2021-06-25T21:17:13.277568Z",
          "shell.execute_reply.started": "2021-06-05T14:30:45.176983Z"
        },
        "papermill": {
          "duration": 0.064842,
          "end_time": "2021-06-25T21:17:13.277724",
          "exception": false,
          "start_time": "2021-06-25T21:17:13.212882",
          "status": "completed"
        },
        "tags": [],
        "colab": {
          "base_uri": "https://localhost:8080/"
        },
        "id": "cellular-bouquet",
        "outputId": "2a227f79-29b4-49aa-ff4f-ddf6a424659c"
      },
      "outputs": [
        {
          "output_type": "execute_result",
          "data": {
            "text/plain": [
              "(16316, 4)"
            ]
          },
          "metadata": {},
          "execution_count": 46
        }
      ],
      "source": [
        "# number of rows and columns\n",
        "psl_df.shape"
      ]
    },
    {
      "cell_type": "code",
      "execution_count": 47,
      "id": "humanitarian-article",
      "metadata": {
        "execution": {
          "iopub.execute_input": "2021-06-25T21:17:13.397193Z",
          "iopub.status.busy": "2021-06-25T21:17:13.396403Z",
          "iopub.status.idle": "2021-06-25T21:17:13.401528Z",
          "shell.execute_reply": "2021-06-25T21:17:13.400901Z",
          "shell.execute_reply.started": "2021-06-05T14:30:45.195846Z"
        },
        "papermill": {
          "duration": 0.064981,
          "end_time": "2021-06-25T21:17:13.401665",
          "exception": false,
          "start_time": "2021-06-25T21:17:13.336684",
          "status": "completed"
        },
        "tags": [],
        "id": "humanitarian-article"
      },
      "outputs": [],
      "source": [
        "#y(dependent)=winner\n",
        "#x(independent)=team\n",
        "# X and Y Split\n",
        "y = psl_df.iloc[:,3]\n",
        "X = psl_df.iloc[:,:3]"
      ]
    },
    {
      "cell_type": "code",
      "execution_count": 48,
      "id": "entire-kernel",
      "metadata": {
        "execution": {
          "iopub.execute_input": "2021-06-25T21:17:13.522235Z",
          "iopub.status.busy": "2021-06-25T21:17:13.521581Z",
          "iopub.status.idle": "2021-06-25T21:17:13.526595Z",
          "shell.execute_reply": "2021-06-25T21:17:13.526016Z",
          "shell.execute_reply.started": "2021-06-05T14:30:45.209426Z"
        },
        "papermill": {
          "duration": 0.067452,
          "end_time": "2021-06-25T21:17:13.526726",
          "exception": false,
          "start_time": "2021-06-25T21:17:13.459274",
          "status": "completed"
        },
        "tags": [],
        "id": "entire-kernel"
      },
      "outputs": [],
      "source": [
        "# Train and Test Split\n",
        "X_train, X_test, y_train, y_test = train_test_split(X, y, test_size=0.4, random_state=42)\n"
      ]
    },
    {
      "cell_type": "markdown",
      "id": "impaired-legislature",
      "metadata": {
        "papermill": {
          "duration": 0.056801,
          "end_time": "2021-06-25T21:17:13.640525",
          "exception": false,
          "start_time": "2021-06-25T21:17:13.583724",
          "status": "completed"
        },
        "tags": [],
        "id": "impaired-legislature"
      },
      "source": [
        "# **Making predictions with Random Forest Classifier**\n",
        "\n",
        "*   Random Forest is a type of ensemble learning algorithm, which combines multiple decision trees to improve the accuracy and stability of the model.\n",
        "\n",
        "*   Random Forest Classifier is a type of Random Forest that is used for classification tasks, where the goal is to predict a categorical target variable.\n",
        "\n"
      ]
    },
    {
      "cell_type": "code",
      "source": [
        "from sklearn.ensemble import RandomForestClassifier\n",
        "import joblib\n",
        "\n",
        "joblib.dump(rf_classifier, 'random_forest_model.joblib')\n",
        "\n",
        "rf_classifier = RandomForestClassifier()\n",
        "rf_classifier.fit(X_train, y_train)\n"
      ],
      "metadata": {
        "colab": {
          "base_uri": "https://localhost:8080/",
          "height": 74
        },
        "id": "2QJDxuoBhCoK",
        "outputId": "a55294db-9a73-4471-ecf6-9af0429eebe6"
      },
      "id": "2QJDxuoBhCoK",
      "execution_count": 53,
      "outputs": [
        {
          "output_type": "execute_result",
          "data": {
            "text/plain": [
              "RandomForestClassifier()"
            ],
            "text/html": [
              "<style>#sk-container-id-2 {color: black;background-color: white;}#sk-container-id-2 pre{padding: 0;}#sk-container-id-2 div.sk-toggleable {background-color: white;}#sk-container-id-2 label.sk-toggleable__label {cursor: pointer;display: block;width: 100%;margin-bottom: 0;padding: 0.3em;box-sizing: border-box;text-align: center;}#sk-container-id-2 label.sk-toggleable__label-arrow:before {content: \"▸\";float: left;margin-right: 0.25em;color: #696969;}#sk-container-id-2 label.sk-toggleable__label-arrow:hover:before {color: black;}#sk-container-id-2 div.sk-estimator:hover label.sk-toggleable__label-arrow:before {color: black;}#sk-container-id-2 div.sk-toggleable__content {max-height: 0;max-width: 0;overflow: hidden;text-align: left;background-color: #f0f8ff;}#sk-container-id-2 div.sk-toggleable__content pre {margin: 0.2em;color: black;border-radius: 0.25em;background-color: #f0f8ff;}#sk-container-id-2 input.sk-toggleable__control:checked~div.sk-toggleable__content {max-height: 200px;max-width: 100%;overflow: auto;}#sk-container-id-2 input.sk-toggleable__control:checked~label.sk-toggleable__label-arrow:before {content: \"▾\";}#sk-container-id-2 div.sk-estimator input.sk-toggleable__control:checked~label.sk-toggleable__label {background-color: #d4ebff;}#sk-container-id-2 div.sk-label input.sk-toggleable__control:checked~label.sk-toggleable__label {background-color: #d4ebff;}#sk-container-id-2 input.sk-hidden--visually {border: 0;clip: rect(1px 1px 1px 1px);clip: rect(1px, 1px, 1px, 1px);height: 1px;margin: -1px;overflow: hidden;padding: 0;position: absolute;width: 1px;}#sk-container-id-2 div.sk-estimator {font-family: monospace;background-color: #f0f8ff;border: 1px dotted black;border-radius: 0.25em;box-sizing: border-box;margin-bottom: 0.5em;}#sk-container-id-2 div.sk-estimator:hover {background-color: #d4ebff;}#sk-container-id-2 div.sk-parallel-item::after {content: \"\";width: 100%;border-bottom: 1px solid gray;flex-grow: 1;}#sk-container-id-2 div.sk-label:hover label.sk-toggleable__label {background-color: #d4ebff;}#sk-container-id-2 div.sk-serial::before {content: \"\";position: absolute;border-left: 1px solid gray;box-sizing: border-box;top: 0;bottom: 0;left: 50%;z-index: 0;}#sk-container-id-2 div.sk-serial {display: flex;flex-direction: column;align-items: center;background-color: white;padding-right: 0.2em;padding-left: 0.2em;position: relative;}#sk-container-id-2 div.sk-item {position: relative;z-index: 1;}#sk-container-id-2 div.sk-parallel {display: flex;align-items: stretch;justify-content: center;background-color: white;position: relative;}#sk-container-id-2 div.sk-item::before, #sk-container-id-2 div.sk-parallel-item::before {content: \"\";position: absolute;border-left: 1px solid gray;box-sizing: border-box;top: 0;bottom: 0;left: 50%;z-index: -1;}#sk-container-id-2 div.sk-parallel-item {display: flex;flex-direction: column;z-index: 1;position: relative;background-color: white;}#sk-container-id-2 div.sk-parallel-item:first-child::after {align-self: flex-end;width: 50%;}#sk-container-id-2 div.sk-parallel-item:last-child::after {align-self: flex-start;width: 50%;}#sk-container-id-2 div.sk-parallel-item:only-child::after {width: 0;}#sk-container-id-2 div.sk-dashed-wrapped {border: 1px dashed gray;margin: 0 0.4em 0.5em 0.4em;box-sizing: border-box;padding-bottom: 0.4em;background-color: white;}#sk-container-id-2 div.sk-label label {font-family: monospace;font-weight: bold;display: inline-block;line-height: 1.2em;}#sk-container-id-2 div.sk-label-container {text-align: center;}#sk-container-id-2 div.sk-container {/* jupyter's `normalize.less` sets `[hidden] { display: none; }` but bootstrap.min.css set `[hidden] { display: none !important; }` so we also need the `!important` here to be able to override the default hidden behavior on the sphinx rendered scikit-learn.org. See: https://github.com/scikit-learn/scikit-learn/issues/21755 */display: inline-block !important;position: relative;}#sk-container-id-2 div.sk-text-repr-fallback {display: none;}</style><div id=\"sk-container-id-2\" class=\"sk-top-container\"><div class=\"sk-text-repr-fallback\"><pre>RandomForestClassifier()</pre><b>In a Jupyter environment, please rerun this cell to show the HTML representation or trust the notebook. <br />On GitHub, the HTML representation is unable to render, please try loading this page with nbviewer.org.</b></div><div class=\"sk-container\" hidden><div class=\"sk-item\"><div class=\"sk-estimator sk-toggleable\"><input class=\"sk-toggleable__control sk-hidden--visually\" id=\"sk-estimator-id-2\" type=\"checkbox\" checked><label for=\"sk-estimator-id-2\" class=\"sk-toggleable__label sk-toggleable__label-arrow\">RandomForestClassifier</label><div class=\"sk-toggleable__content\"><pre>RandomForestClassifier()</pre></div></div></div></div></div>"
            ]
          },
          "metadata": {},
          "execution_count": 53
        }
      ]
    },
    {
      "cell_type": "markdown",
      "source": [
        "### Accuracy"
      ],
      "metadata": {
        "id": "0ZuTzx5rFK6u"
      },
      "id": "0ZuTzx5rFK6u"
    },
    {
      "cell_type": "code",
      "source": [
        "y_pred = rf_classifier.predict(X_test)\n",
        "\n",
        "accuracy = accuracy_score(y_test, y_pred)\n",
        "\n",
        "print(\"Accuracy:\", accuracy)\n",
        "print(\"Accuracy:\", accuracy*100)"
      ],
      "metadata": {
        "colab": {
          "base_uri": "https://localhost:8080/"
        },
        "id": "AhcAtrHRhN-A",
        "outputId": "e444e0f8-7ad5-48e5-e72d-b6c89e5a8f10"
      },
      "id": "AhcAtrHRhN-A",
      "execution_count": 50,
      "outputs": [
        {
          "output_type": "stream",
          "name": "stdout",
          "text": [
            "Accuracy: 0.8003677033859353\n",
            "Accuracy: 80.03677033859353\n"
          ]
        }
      ]
    },
    {
      "cell_type": "markdown",
      "source": [
        "### Outcome Probability"
      ],
      "metadata": {
        "id": "eNbmmGY_FSgJ"
      },
      "id": "eNbmmGY_FSgJ"
    },
    {
      "cell_type": "code",
      "source": [
        "\n",
        "current_df = pd.DataFrame(current, index=[0])\n",
        "rf_model = joblib.load('random_forest_model.joblib')\n",
        "\n",
        "current = {\n",
        "    \"wickets\": 6,\n",
        "    \"balls_left\": 12,\n",
        "    \"runs_left\": 19\n",
        "}\n",
        "# Predicting the outcome probabilities using the Random Forest model\n",
        "outcome_probabilities = rf_model.predict_proba(current_df)\n",
        "\n",
        "print(outcome_probabilities)\n"
      ],
      "metadata": {
        "colab": {
          "base_uri": "https://localhost:8080/"
        },
        "id": "9zs3Gw5GhX5s",
        "outputId": "3ada0c0b-05dc-476b-a539-3a7750eadbf6"
      },
      "id": "9zs3Gw5GhX5s",
      "execution_count": 57,
      "outputs": [
        {
          "output_type": "stream",
          "name": "stdout",
          "text": [
            "[[0.93833333 0.06166667]]\n"
          ]
        }
      ]
    },
    {
      "cell_type": "markdown",
      "source": [
        "from the above inights it is concluded:\n",
        "\n",
        "*   0.9383(93.8%) chances of team 2 winning or team 1 losing\n",
        "\n",
        "*   0.0616667(6.1%)chance of team 1 winning or team 2 losing\n",
        "\n"
      ],
      "metadata": {
        "id": "pncXdz2sFcuI"
      },
      "id": "pncXdz2sFcuI"
    },
    {
      "cell_type": "code",
      "source": [
        "\n",
        "# load the model\n",
        "rf_model = joblib.load('random_forest_model.joblib')\n",
        "\n",
        "# TEAM 1 KARACHI HAS TO CHASE THE TARGET\n",
        "team1 = 'Karachi Kings'\n",
        "team2 = 'Multan Sultans'\n",
        "target = 142\n",
        "cur_runs = 123\n",
        "wickets = 6.0\n",
        "overs = 18\n",
        "\n",
        "\n",
        "# calculate input features\n",
        "balls_left = 120 - ((overs - overs%1) * 6 + (overs%1)*10)\n",
        "runs_left = target - cur_runs\n",
        "\n",
        "# create input data\n",
        "input_data = pd.DataFrame([[wickets, balls_left, runs_left]], columns=['wickets', 'balls_left', 'runs_left'])\n",
        "\n",
        "# make prediction\n",
        "prediction = rf_model.predict_proba(input_data)[:, 1]\n",
        "\n",
        "# display results\n",
        "print(f\"Interpretation: There is a {round(prediction[0] * 100)}% chance ({team2}) is going to lose [or  ({team1}) is going to win] and a {round((1-prediction[0]) * 100)}% chance that ({team2}) will win.\")\n"
      ],
      "metadata": {
        "colab": {
          "base_uri": "https://localhost:8080/"
        },
        "id": "g4ve2FIej-UM",
        "outputId": "92834938-c0aa-444c-cec2-90a73906bf86"
      },
      "id": "g4ve2FIej-UM",
      "execution_count": 63,
      "outputs": [
        {
          "output_type": "stream",
          "name": "stdout",
          "text": [
            "Interpretation: There is a 6% chance (Multan Sultans) is going to lose [or  (Karachi Kings) is going to win] and a 94% chance that (Multan Sultans) will win.\n"
          ]
        }
      ]
    },
    {
      "cell_type": "markdown",
      "source": [
        "From the interprepretion it is concluded that above insights are true"
      ],
      "metadata": {
        "id": "iFvdlBQhGvuv"
      },
      "id": "iFvdlBQhGvuv"
    },
    {
      "cell_type": "code",
      "source": [
        "rf_classifier = RandomForestClassifier()\n",
        "rf_classifier.fit(X_train, y_train)\n",
        "\n",
        "print(\"                -----CLASSIFICATION REPORT----\\n\")\n",
        "# predict target values on the testing data\n",
        "y_pred_test = rf_classifier.predict(X_test)\n",
        "\n",
        "# print the classification report\n",
        "print(classification_report(y_test, y_pred_test))"
      ],
      "metadata": {
        "colab": {
          "base_uri": "https://localhost:8080/"
        },
        "id": "2OwzlT6gkiSX",
        "outputId": "0ee8cd05-93e4-4f57-88f7-c4e62284e390"
      },
      "id": "2OwzlT6gkiSX",
      "execution_count": 75,
      "outputs": [
        {
          "output_type": "stream",
          "name": "stdout",
          "text": [
            "                -----CLASSIFICATION REPORT----\n",
            "\n",
            "              precision    recall  f1-score   support\n",
            "\n",
            "           0       0.75      0.71      0.73      2470\n",
            "           1       0.83      0.85      0.84      4057\n",
            "\n",
            "    accuracy                           0.80      6527\n",
            "   macro avg       0.79      0.78      0.79      6527\n",
            "weighted avg       0.80      0.80      0.80      6527\n",
            "\n"
          ]
        }
      ]
    },
    {
      "cell_type": "code",
      "source": [
        "from sklearn.metrics import confusion_matrix\n",
        "\n",
        "# assuming y_test and y_pred are already defined\n",
        "cm = confusion_matrix(y_test, y_pred)\n",
        "\n",
        "print(\"Confusion matrix:\")\n",
        "print(cm)\n"
      ],
      "metadata": {
        "colab": {
          "base_uri": "https://localhost:8080/"
        },
        "id": "VPT9FN4rlVw7",
        "outputId": "f80a20b2-e9c9-4c3a-b587-66c881c59782"
      },
      "id": "VPT9FN4rlVw7",
      "execution_count": 62,
      "outputs": [
        {
          "output_type": "stream",
          "name": "stdout",
          "text": [
            "Confusion matrix:\n",
            "[[1764  706]\n",
            " [ 597 3460]]\n"
          ]
        }
      ]
    },
    {
      "cell_type": "markdown",
      "source": [
        "# **Making predictions with SVM**\n",
        "SVM stands for Support Vector Machines, which is a type of supervised learning algorithm used for classification and regression analysis."
      ],
      "metadata": {
        "id": "EvkrXoXVl9Wq"
      },
      "id": "EvkrXoXVl9Wq"
    },
    {
      "cell_type": "code",
      "source": [
        "from sklearn import svm\n",
        "import joblib\n",
        "\n",
        "# create SVM classifier object\n",
        "svm_classifier = svm.SVC(kernel='linear')\n",
        "\n",
        "# train the model using training sets\n",
        "svm_classifier.fit(X_train, y_train)\n",
        "\n",
        "# dump the model using joblib\n",
        "joblib.dump(svm_classifier, 'svm_model.joblib')\n"
      ],
      "metadata": {
        "colab": {
          "base_uri": "https://localhost:8080/"
        },
        "id": "tMoUNlxImHDj",
        "outputId": "243e4708-e99a-4645-9a0e-a2c70d1a6ddf"
      },
      "id": "tMoUNlxImHDj",
      "execution_count": 64,
      "outputs": [
        {
          "output_type": "execute_result",
          "data": {
            "text/plain": [
              "['svm_model.joblib']"
            ]
          },
          "metadata": {},
          "execution_count": 64
        }
      ]
    },
    {
      "cell_type": "code",
      "source": [
        "# Save the trained model\n",
        "joblib.dump(svm_classifier, 'svm_model.joblib')\n",
        "\n",
        "# Predict the labels of the test data using the trained model\n",
        "y_pred = svm_classifier.predict(X_test)\n",
        "\n",
        "# Calculate the accuracy of the predictions\n",
        "accuracy = accuracy_score(y_test, y_pred)\n",
        "\n",
        "print(\"Accuracy:\", accuracy)\n",
        "print(\"Accuracy:\", accuracy*100)"
      ],
      "metadata": {
        "colab": {
          "base_uri": "https://localhost:8080/"
        },
        "id": "ACrxFfRSnd_C",
        "outputId": "0d433c36-8d33-4fb2-8319-3cbebe7a5f1b"
      },
      "id": "ACrxFfRSnd_C",
      "execution_count": 65,
      "outputs": [
        {
          "output_type": "stream",
          "name": "stdout",
          "text": [
            "Accuracy: 0.7851999387161024\n",
            "Accuracy: 78.51999387161024\n"
          ]
        }
      ]
    },
    {
      "cell_type": "code",
      "source": [
        "current= {\n",
        "    \"wickets\":6,\n",
        "    \"balls_left\" :12,\n",
        "    \"runs_left\":19\n",
        "}\n",
        "current_df = pd.DataFrame(current,index=[0])\n",
        "svm_model.predict_proba(current_df)"
      ],
      "metadata": {
        "colab": {
          "base_uri": "https://localhost:8080/"
        },
        "id": "Fb4tx9sln1qY",
        "outputId": "8f3c6c48-fd2f-4e80-a880-e311fa035f00"
      },
      "id": "Fb4tx9sln1qY",
      "execution_count": 137,
      "outputs": [
        {
          "output_type": "execute_result",
          "data": {
            "text/plain": [
              "array([[0.464123, 0.535877]])"
            ]
          },
          "metadata": {},
          "execution_count": 137
        }
      ]
    },
    {
      "cell_type": "markdown",
      "source": [
        "from the insights it is concluded:\n",
        "\n",
        "\n",
        "1.   There are 0.4641(46.41%) chances of team2is going to win or team 1 is going to lose\n",
        "2.   There are 0.53578(53.58%) chances of team1 is going to win or team 2 is going to lose\n",
        "\n"
      ],
      "metadata": {
        "id": "flCSZeMOH3qQ"
      },
      "id": "flCSZeMOH3qQ"
    },
    {
      "cell_type": "code",
      "source": [
        "# load the model\n",
        "svm_model = joblib.load('svm_model.joblib')\n",
        "\n",
        "# TEAM 1 KARACHI HAS TO CHASE THE TARGET\n",
        "team1 = 'Karachi Kings'\n",
        "team2 = 'Multan Sultans'\n",
        "target = 142\n",
        "cur_runs = 123\n",
        "wickets = 6.0\n",
        "overs = 18\n",
        "\n",
        "# calculate input features\n",
        "balls_left = 120 - ((overs - overs%1) * 6 + (overs%1)*10)\n",
        "runs_left = target - cur_runs\n",
        "\n",
        "# create input data\n",
        "input_data = pd.DataFrame([[wickets, balls_left, runs_left]], columns=['wickets', 'balls_left', 'runs_left'])\n",
        "\n",
        "# make prediction using decision function\n",
        "scores = svm_model.decision_function(input_data)\n",
        "probabilities = 1 / (1 + np.exp(-scores))\n",
        "\n",
        "# display results\n",
        "print(f\"Interpretation: There is a {round(probabilities[0] * 100)}% chance ({team2}) is going to lose [or  ({team1}) is going to win] and a {round((1-probabilities[0]) * 100)}% chance that ({team2}) will win.\")\n"
      ],
      "metadata": {
        "colab": {
          "base_uri": "https://localhost:8080/"
        },
        "id": "ogkoXanerMTg",
        "outputId": "aeaeada4-e347-4a95-e036-481194608250"
      },
      "id": "ogkoXanerMTg",
      "execution_count": 76,
      "outputs": [
        {
          "output_type": "stream",
          "name": "stdout",
          "text": [
            "Interpretation: There is a 54% chance (Multan Sultans) is going to lose [or  (Karachi Kings) is going to win] and a 46% chance that (Multan Sultans) will win.\n"
          ]
        }
      ]
    },
    {
      "cell_type": "code",
      "source": [
        "svm_classifier = svm.SVC(kernel='linear')\n",
        "svm_classifier.fit(X_train, y_train)\n",
        "\n",
        "print(\"-------CLASSIFICATION REPORT-----\\n\")\n",
        "\n",
        "y_pred_test = svm_classifier.predict(X_test)\n",
        "\n",
        "print(classification_report(y_test, y_pred_test))\n",
        "\n"
      ],
      "metadata": {
        "colab": {
          "base_uri": "https://localhost:8080/"
        },
        "id": "k22A1nqXtC2B",
        "outputId": "ceb95a65-6de8-43c2-a2da-615caffb2a1f"
      },
      "id": "k22A1nqXtC2B",
      "execution_count": 133,
      "outputs": [
        {
          "output_type": "stream",
          "name": "stdout",
          "text": [
            "-------CLASSIFICATION REPORT-----\n",
            "\n",
            "              precision    recall  f1-score   support\n",
            "\n",
            "           0       0.76      0.64      0.69      2470\n",
            "           1       0.80      0.88      0.84      4057\n",
            "\n",
            "    accuracy                           0.79      6527\n",
            "   macro avg       0.78      0.76      0.76      6527\n",
            "weighted avg       0.78      0.79      0.78      6527\n",
            "\n"
          ]
        }
      ]
    },
    {
      "cell_type": "markdown",
      "id": "juvenile-brooklyn",
      "metadata": {
        "papermill": {
          "duration": 0.057584,
          "end_time": "2021-06-25T21:18:05.425720",
          "exception": false,
          "start_time": "2021-06-25T21:18:05.368136",
          "status": "completed"
        },
        "tags": [],
        "id": "juvenile-brooklyn"
      },
      "source": [
        "# **Making predictions with XGBoost Classifier**\n",
        "1. XGBoost Classifier is an implementation of gradient boosting algorithm which uses multiple decision trees to make predictions.\n",
        "\n",
        "2. It builds an ensemble of weak decision trees and combines them to make accurate predictions.\n",
        "\n",
        "3. The algorithm works by iteratively training decision trees to correct the errors of previous trees in the ensemble."
      ]
    },
    {
      "cell_type": "code",
      "execution_count": 103,
      "id": "advanced-malawi",
      "metadata": {
        "execution": {
          "iopub.execute_input": "2021-06-25T21:18:05.546424Z",
          "iopub.status.busy": "2021-06-25T21:18:05.545541Z",
          "iopub.status.idle": "2021-06-25T21:18:05.896552Z",
          "shell.execute_reply": "2021-06-25T21:18:05.896092Z",
          "shell.execute_reply.started": "2021-06-05T14:31:45.594576Z"
        },
        "papermill": {
          "duration": 0.413368,
          "end_time": "2021-06-25T21:18:05.896686",
          "exception": false,
          "start_time": "2021-06-25T21:18:05.483318",
          "status": "completed"
        },
        "tags": [],
        "id": "advanced-malawi",
        "outputId": "33da005d-1765-4fb3-bfec-89a136ec225e",
        "colab": {
          "base_uri": "https://localhost:8080/",
          "height": 248
        }
      },
      "outputs": [
        {
          "output_type": "execute_result",
          "data": {
            "text/plain": [
              "XGBClassifier(base_score=None, booster=None, callbacks=None,\n",
              "              colsample_bylevel=None, colsample_bynode=None,\n",
              "              colsample_bytree=None, early_stopping_rounds=None,\n",
              "              enable_categorical=False, eval_metric=None, feature_types=None,\n",
              "              gamma=None, gpu_id=None, grow_policy=None, importance_type=None,\n",
              "              interaction_constraints=None, learning_rate=None, max_bin=None,\n",
              "              max_cat_threshold=None, max_cat_to_onehot=None,\n",
              "              max_delta_step=None, max_depth=None, max_leaves=None,\n",
              "              min_child_weight=None, missing=nan, monotone_constraints=None,\n",
              "              n_estimators=100, n_jobs=None, num_parallel_tree=None,\n",
              "              predictor=None, random_state=None, ...)"
            ],
            "text/html": [
              "<style>#sk-container-id-3 {color: black;background-color: white;}#sk-container-id-3 pre{padding: 0;}#sk-container-id-3 div.sk-toggleable {background-color: white;}#sk-container-id-3 label.sk-toggleable__label {cursor: pointer;display: block;width: 100%;margin-bottom: 0;padding: 0.3em;box-sizing: border-box;text-align: center;}#sk-container-id-3 label.sk-toggleable__label-arrow:before {content: \"▸\";float: left;margin-right: 0.25em;color: #696969;}#sk-container-id-3 label.sk-toggleable__label-arrow:hover:before {color: black;}#sk-container-id-3 div.sk-estimator:hover label.sk-toggleable__label-arrow:before {color: black;}#sk-container-id-3 div.sk-toggleable__content {max-height: 0;max-width: 0;overflow: hidden;text-align: left;background-color: #f0f8ff;}#sk-container-id-3 div.sk-toggleable__content pre {margin: 0.2em;color: black;border-radius: 0.25em;background-color: #f0f8ff;}#sk-container-id-3 input.sk-toggleable__control:checked~div.sk-toggleable__content {max-height: 200px;max-width: 100%;overflow: auto;}#sk-container-id-3 input.sk-toggleable__control:checked~label.sk-toggleable__label-arrow:before {content: \"▾\";}#sk-container-id-3 div.sk-estimator input.sk-toggleable__control:checked~label.sk-toggleable__label {background-color: #d4ebff;}#sk-container-id-3 div.sk-label input.sk-toggleable__control:checked~label.sk-toggleable__label {background-color: #d4ebff;}#sk-container-id-3 input.sk-hidden--visually {border: 0;clip: rect(1px 1px 1px 1px);clip: rect(1px, 1px, 1px, 1px);height: 1px;margin: -1px;overflow: hidden;padding: 0;position: absolute;width: 1px;}#sk-container-id-3 div.sk-estimator {font-family: monospace;background-color: #f0f8ff;border: 1px dotted black;border-radius: 0.25em;box-sizing: border-box;margin-bottom: 0.5em;}#sk-container-id-3 div.sk-estimator:hover {background-color: #d4ebff;}#sk-container-id-3 div.sk-parallel-item::after {content: \"\";width: 100%;border-bottom: 1px solid gray;flex-grow: 1;}#sk-container-id-3 div.sk-label:hover label.sk-toggleable__label {background-color: #d4ebff;}#sk-container-id-3 div.sk-serial::before {content: \"\";position: absolute;border-left: 1px solid gray;box-sizing: border-box;top: 0;bottom: 0;left: 50%;z-index: 0;}#sk-container-id-3 div.sk-serial {display: flex;flex-direction: column;align-items: center;background-color: white;padding-right: 0.2em;padding-left: 0.2em;position: relative;}#sk-container-id-3 div.sk-item {position: relative;z-index: 1;}#sk-container-id-3 div.sk-parallel {display: flex;align-items: stretch;justify-content: center;background-color: white;position: relative;}#sk-container-id-3 div.sk-item::before, #sk-container-id-3 div.sk-parallel-item::before {content: \"\";position: absolute;border-left: 1px solid gray;box-sizing: border-box;top: 0;bottom: 0;left: 50%;z-index: -1;}#sk-container-id-3 div.sk-parallel-item {display: flex;flex-direction: column;z-index: 1;position: relative;background-color: white;}#sk-container-id-3 div.sk-parallel-item:first-child::after {align-self: flex-end;width: 50%;}#sk-container-id-3 div.sk-parallel-item:last-child::after {align-self: flex-start;width: 50%;}#sk-container-id-3 div.sk-parallel-item:only-child::after {width: 0;}#sk-container-id-3 div.sk-dashed-wrapped {border: 1px dashed gray;margin: 0 0.4em 0.5em 0.4em;box-sizing: border-box;padding-bottom: 0.4em;background-color: white;}#sk-container-id-3 div.sk-label label {font-family: monospace;font-weight: bold;display: inline-block;line-height: 1.2em;}#sk-container-id-3 div.sk-label-container {text-align: center;}#sk-container-id-3 div.sk-container {/* jupyter's `normalize.less` sets `[hidden] { display: none; }` but bootstrap.min.css set `[hidden] { display: none !important; }` so we also need the `!important` here to be able to override the default hidden behavior on the sphinx rendered scikit-learn.org. See: https://github.com/scikit-learn/scikit-learn/issues/21755 */display: inline-block !important;position: relative;}#sk-container-id-3 div.sk-text-repr-fallback {display: none;}</style><div id=\"sk-container-id-3\" class=\"sk-top-container\"><div class=\"sk-text-repr-fallback\"><pre>XGBClassifier(base_score=None, booster=None, callbacks=None,\n",
              "              colsample_bylevel=None, colsample_bynode=None,\n",
              "              colsample_bytree=None, early_stopping_rounds=None,\n",
              "              enable_categorical=False, eval_metric=None, feature_types=None,\n",
              "              gamma=None, gpu_id=None, grow_policy=None, importance_type=None,\n",
              "              interaction_constraints=None, learning_rate=None, max_bin=None,\n",
              "              max_cat_threshold=None, max_cat_to_onehot=None,\n",
              "              max_delta_step=None, max_depth=None, max_leaves=None,\n",
              "              min_child_weight=None, missing=nan, monotone_constraints=None,\n",
              "              n_estimators=100, n_jobs=None, num_parallel_tree=None,\n",
              "              predictor=None, random_state=None, ...)</pre><b>In a Jupyter environment, please rerun this cell to show the HTML representation or trust the notebook. <br />On GitHub, the HTML representation is unable to render, please try loading this page with nbviewer.org.</b></div><div class=\"sk-container\" hidden><div class=\"sk-item\"><div class=\"sk-estimator sk-toggleable\"><input class=\"sk-toggleable__control sk-hidden--visually\" id=\"sk-estimator-id-3\" type=\"checkbox\" checked><label for=\"sk-estimator-id-3\" class=\"sk-toggleable__label sk-toggleable__label-arrow\">XGBClassifier</label><div class=\"sk-toggleable__content\"><pre>XGBClassifier(base_score=None, booster=None, callbacks=None,\n",
              "              colsample_bylevel=None, colsample_bynode=None,\n",
              "              colsample_bytree=None, early_stopping_rounds=None,\n",
              "              enable_categorical=False, eval_metric=None, feature_types=None,\n",
              "              gamma=None, gpu_id=None, grow_policy=None, importance_type=None,\n",
              "              interaction_constraints=None, learning_rate=None, max_bin=None,\n",
              "              max_cat_threshold=None, max_cat_to_onehot=None,\n",
              "              max_delta_step=None, max_depth=None, max_leaves=None,\n",
              "              min_child_weight=None, missing=nan, monotone_constraints=None,\n",
              "              n_estimators=100, n_jobs=None, num_parallel_tree=None,\n",
              "              predictor=None, random_state=None, ...)</pre></div></div></div></div></div>"
            ]
          },
          "metadata": {},
          "execution_count": 103
        }
      ],
      "source": [
        "XGBC = xgboost.XGBClassifier()\n",
        "XGBC.fit(X_train, y_train)"
      ]
    },
    {
      "cell_type": "code",
      "source": [
        "import xgboost as xgb\n",
        "import joblib\n",
        "\n",
        "# create XGBoost classifier object\n",
        "xgb_classifier = xgb.XGBClassifier()\n",
        "\n",
        "# train the model using training sets\n",
        "xgb_classifier.fit(X_train, y_train)\n",
        "\n",
        "# dump the model using joblib\n",
        "joblib.dump(xgb_classifier, 'xgb_model.joblib')\n"
      ],
      "metadata": {
        "colab": {
          "base_uri": "https://localhost:8080/"
        },
        "id": "loLaBkTxvU07",
        "outputId": "2eb912cc-4cd6-4989-f894-10f3a980dd98"
      },
      "id": "loLaBkTxvU07",
      "execution_count": 78,
      "outputs": [
        {
          "output_type": "execute_result",
          "data": {
            "text/plain": [
              "['xgb_model.joblib']"
            ]
          },
          "metadata": {},
          "execution_count": 78
        }
      ]
    },
    {
      "cell_type": "code",
      "execution_count": 104,
      "id": "sticky-acoustic",
      "metadata": {
        "execution": {
          "iopub.execute_input": "2021-06-25T21:18:06.027748Z",
          "iopub.status.busy": "2021-06-25T21:18:06.018690Z",
          "iopub.status.idle": "2021-06-25T21:18:06.030115Z",
          "shell.execute_reply": "2021-06-25T21:18:06.030514Z",
          "shell.execute_reply.started": "2021-06-05T14:31:45.933443Z"
        },
        "papermill": {
          "duration": 0.074887,
          "end_time": "2021-06-25T21:18:06.030672",
          "exception": false,
          "start_time": "2021-06-25T21:18:05.955785",
          "status": "completed"
        },
        "tags": [],
        "id": "sticky-acoustic"
      },
      "outputs": [],
      "source": [
        "y_pred = XGBC.predict(X_test)\n",
        "predictions = [round(value) for value in y_pred]"
      ]
    },
    {
      "cell_type": "code",
      "source": [
        "# load the model\n",
        "xgb_model = joblib.load('xgb_model.joblib')\n",
        "\n",
        "# make prediction\n",
        "y_pred = xgb_model.predict(X_test)\n",
        "\n",
        "# evaluate the model\n",
        "accuracy = accuracy_score(y_test, y_pred)\n",
        "print(\"Accuracy:\", accuracy)\n",
        "print(\"Accuracy:\", accuracy*100)\n"
      ],
      "metadata": {
        "colab": {
          "base_uri": "https://localhost:8080/"
        },
        "id": "hWahdY0svcgs",
        "outputId": "3a7a9b95-fc85-4ab2-c001-772cb8b38281"
      },
      "id": "hWahdY0svcgs",
      "execution_count": 79,
      "outputs": [
        {
          "output_type": "stream",
          "name": "stdout",
          "text": [
            "Accuracy: 0.8113988049639957\n",
            "Accuracy: 81.13988049639957\n"
          ]
        }
      ]
    },
    {
      "cell_type": "code",
      "execution_count": 108,
      "id": "ecological-breathing",
      "metadata": {
        "execution": {
          "iopub.execute_input": "2021-06-25T21:18:06.416229Z",
          "iopub.status.busy": "2021-06-25T21:18:06.415545Z",
          "iopub.status.idle": "2021-06-25T21:18:06.423518Z",
          "shell.execute_reply": "2021-06-25T21:18:06.423875Z",
          "shell.execute_reply.started": "2021-06-05T14:31:45.982527Z"
        },
        "papermill": {
          "duration": 0.072173,
          "end_time": "2021-06-25T21:18:06.424023",
          "exception": false,
          "start_time": "2021-06-25T21:18:06.351850",
          "status": "completed"
        },
        "tags": [],
        "id": "ecological-breathing",
        "outputId": "6aae8cec-3b30-4bee-f9b8-3be76c4f469c",
        "colab": {
          "base_uri": "https://localhost:8080/"
        }
      },
      "outputs": [
        {
          "output_type": "execute_result",
          "data": {
            "text/plain": [
              "array([[0.7840582 , 0.21594182]], dtype=float32)"
            ]
          },
          "metadata": {},
          "execution_count": 108
        }
      ],
      "source": [
        "current= {\n",
        "    \"wickets\":6,\n",
        "    \"balls_left\" :12,\n",
        "    \"runs_left\":19\n",
        "}\n",
        "current_df = pd.DataFrame(current,index=[0])\n",
        "XGBC.predict_proba(current_df)"
      ]
    },
    {
      "cell_type": "markdown",
      "source": [
        "from the above insights it is concluded \n",
        "\n",
        "\n",
        "1.   there are 0.7840(78.40%) chances of team2 winning or team 1 losing.\n",
        "2.   there are 0.215941(21.59%) chances of team1 winning or team 2 losing.\n",
        "\n"
      ],
      "metadata": {
        "id": "ae4NDUWII4y3"
      },
      "id": "ae4NDUWII4y3"
    },
    {
      "cell_type": "code",
      "source": [
        "import joblib\n",
        "import pandas as pd\n",
        "import numpy as np\n",
        "\n",
        "xgb_model = joblib.load('xgb_model.joblib')\n",
        "# load the model\n",
        "\n",
        "# input data\n",
        "team1 = 'Karachi Kings'\n",
        "team2 = 'Multan Sultans'\n",
        "target = 142\n",
        "cur_runs = 123\n",
        "wickets = 6.0\n",
        "overs = 18\n",
        "\n",
        "# calculate input features\n",
        "balls_left = 120 - ((overs - overs%1) * 6 + (overs%1)*10)\n",
        "runs_left = target - cur_runs\n",
        "\n",
        "# create input data\n",
        "input_data = pd.DataFrame([[wickets, balls_left, runs_left]], columns=['wickets', 'balls_left', 'runs_left'])\n",
        "\n",
        "# make prediction\n",
        "outcome_probabilities = xgb_model.predict(current_array)\n",
        "\n",
        "# display results\n",
        "print(f\"Interpretation: There is a {round(prediction[0] * 100)}% chance ({team2}) is going to lose [or  ({team1}) is going to win] and a {round((1-prediction[0]) * 100)}% chance that ({team2}) will win.\")\n"
      ],
      "metadata": {
        "colab": {
          "base_uri": "https://localhost:8080/"
        },
        "id": "Oy2mHTj02zs9",
        "outputId": "05e43ed1-c9a7-489a-9a52-b911f98a01bd"
      },
      "id": "Oy2mHTj02zs9",
      "execution_count": 100,
      "outputs": [
        {
          "output_type": "stream",
          "name": "stdout",
          "text": [
            "Interpretation: There is a 22% chance (Multan Sultans) is going to lose [or  (Karachi Kings) is going to win] and a 78% chance that (Multan Sultans) will win.\n"
          ]
        }
      ]
    },
    {
      "cell_type": "code",
      "execution_count": 111,
      "id": "eight-bacon",
      "metadata": {
        "execution": {
          "iopub.execute_input": "2021-06-25T21:18:06.278996Z",
          "iopub.status.busy": "2021-06-25T21:18:06.278427Z",
          "iopub.status.idle": "2021-06-25T21:18:06.292695Z",
          "shell.execute_reply": "2021-06-25T21:18:06.293207Z",
          "shell.execute_reply.started": "2021-06-05T14:37:25.531149Z"
        },
        "papermill": {
          "duration": 0.077596,
          "end_time": "2021-06-25T21:18:06.293379",
          "exception": false,
          "start_time": "2021-06-25T21:18:06.215783",
          "status": "completed"
        },
        "tags": [],
        "id": "eight-bacon",
        "outputId": "f7bd2044-18da-4463-d239-ae1345088f9e",
        "colab": {
          "base_uri": "https://localhost:8080/"
        }
      },
      "outputs": [
        {
          "output_type": "stream",
          "name": "stdout",
          "text": [
            "              precision    recall  f1-score   support\n",
            "\n",
            "           0       0.79      0.68      0.73      2470\n",
            "           1       0.82      0.89      0.85      4057\n",
            "\n",
            "    accuracy                           0.81      6527\n",
            "   macro avg       0.81      0.79      0.79      6527\n",
            "weighted avg       0.81      0.81      0.81      6527\n",
            "\n"
          ]
        }
      ],
      "source": [
        "print(classification_report(y_test, predictions))"
      ]
    },
    {
      "cell_type": "markdown",
      "source": [
        "# **MAKING PREDICTION WITH DECISION TREE**\n",
        "1. A decision tree is a type of supervised learning algorithm that can be used for both classification and regression tasks. \n",
        "\n",
        "2. A decision tree is constructed by recursively splitting the data into subsets based on the values of a certain feature or attribute."
      ],
      "metadata": {
        "id": "OOLevtu3we5v"
      },
      "id": "OOLevtu3we5v"
    },
    {
      "cell_type": "code",
      "source": [
        "from sklearn.tree import DecisionTreeClassifier\n",
        "import joblib\n",
        "\n",
        "# Define model\n",
        "dt = DecisionTreeClassifier(max_depth=6, random_state=0)\n",
        "\n",
        "# Fit model\n",
        "dt.fit(X_train, y_train)\n",
        "\n",
        "# Dump model into file\n",
        "joblib.dump(dt, 'decision_tree_model.joblib')\n"
      ],
      "metadata": {
        "colab": {
          "base_uri": "https://localhost:8080/"
        },
        "id": "bQ3JM6GdwlBk",
        "outputId": "468ac7a6-931e-47a9-cbfd-2bfc90058e23"
      },
      "id": "bQ3JM6GdwlBk",
      "execution_count": 116,
      "outputs": [
        {
          "output_type": "execute_result",
          "data": {
            "text/plain": [
              "['decision_tree_model.joblib']"
            ]
          },
          "metadata": {},
          "execution_count": 116
        }
      ]
    },
    {
      "cell_type": "code",
      "source": [
        "dt = joblib.load('decision_tree_model.joblib')\n",
        "\n",
        "# Predict Output\n",
        "y_pred_test = dt.predict(X_test)\n",
        "\n",
        "# Calculate accuracy score\n",
        "accuracy = accuracy_score(y_test, y_pred)\n",
        "\n",
        "print(\"Accuracy:\", accuracy)\n",
        "print(\"Accuracy:\", accuracy*100)"
      ],
      "metadata": {
        "colab": {
          "base_uri": "https://localhost:8080/"
        },
        "id": "lVHTRY125tdx",
        "outputId": "318fc39e-6c73-4012-bda6-2c21543da89a"
      },
      "id": "lVHTRY125tdx",
      "execution_count": 119,
      "outputs": [
        {
          "output_type": "stream",
          "name": "stdout",
          "text": [
            "Accuracy: 0.8113988049639957\n",
            "Accuracy: 81.13988049639957\n"
          ]
        }
      ]
    },
    {
      "cell_type": "code",
      "execution_count": 132,
      "id": "likely-speaking",
      "metadata": {
        "execution": {
          "iopub.execute_input": "2021-06-25T21:18:13.537830Z",
          "iopub.status.busy": "2021-06-25T21:18:13.537280Z",
          "iopub.status.idle": "2021-06-25T21:18:13.559430Z",
          "shell.execute_reply": "2021-06-25T21:18:13.558884Z"
        },
        "papermill": {
          "duration": 0.087099,
          "end_time": "2021-06-25T21:18:13.559559",
          "exception": false,
          "start_time": "2021-06-25T21:18:13.472460",
          "status": "completed"
        },
        "tags": [],
        "id": "likely-speaking",
        "colab": {
          "base_uri": "https://localhost:8080/"
        },
        "outputId": "0b9ddeb7-cd56-4aba-c877-7908f11a3b37"
      },
      "outputs": [
        {
          "output_type": "stream",
          "name": "stdout",
          "text": [
            "[[0.71428571 0.28571429]]\n"
          ]
        }
      ],
      "source": [
        "from sklearn.tree import DecisionTreeClassifier\n",
        "import joblib\n",
        "import numpy as np\n",
        "\n",
        "# Define the input data as a NumPy array\n",
        "current = {\n",
        "    \"wickets\": 6,\n",
        "    \"balls_left\": 12,\n",
        "    \"runs_left\": 19\n",
        "}\n",
        "current_array = np.array([current[\"wickets\"], current[\"balls_left\"], current[\"runs_left\"]])\n",
        "\n",
        "# Reshape the input array to have two dimensions\n",
        "current_array = current_array.reshape(1, -1)\n",
        "\n",
        "# Load the Decision Tree model\n",
        "dt = joblib.load('decision_tree_model.joblib')\n",
        "\n",
        "# Predict the probability estimates for each class using the predict_proba() method\n",
        "outcome_probabilities = dt.predict_proba(current_array)\n",
        "\n",
        "# Print the predicted probability estimates for each class\n",
        "print(outcome_probabilities)\n"
      ]
    },
    {
      "cell_type": "markdown",
      "source": [
        "from the above insights it is concluded\n",
        "\n",
        "1. there are 0.71428(71.42%) chances of team2 winning or team 1 losing.\n",
        "2. there are 0.2857141(28.57%) chances of team1 winning or team 2 losing."
      ],
      "metadata": {
        "id": "kQgPrSIwJXay"
      },
      "id": "kQgPrSIwJXay"
    },
    {
      "cell_type": "code",
      "source": [
        "from sklearn.tree import DecisionTreeClassifier\n",
        "from sklearn.metrics import classification_report\n",
        "\n",
        "# Define and fit model\n",
        "dt = DecisionTreeClassifier()\n",
        "model.fit(X_train, y_train)\n",
        "\n",
        "# Make predictions\n",
        "y_pred = model.predict(X_test)\n",
        "\n",
        "# Generate classification report\n",
        "report = classification_report(y_test, y_pred)\n",
        "print(\"                 ------CLASSIFICATION REPORT--------\")\n",
        "print(report)\n"
      ],
      "metadata": {
        "id": "_iCP4g0Fzx2o",
        "colab": {
          "base_uri": "https://localhost:8080/"
        },
        "outputId": "d96c7002-0641-428f-8813-f685916d778b"
      },
      "id": "_iCP4g0Fzx2o",
      "execution_count": 128,
      "outputs": [
        {
          "output_type": "stream",
          "name": "stdout",
          "text": [
            "                 ------CLASSIFICATION REPORT--------\n",
            "              precision    recall  f1-score   support\n",
            "\n",
            "           0       0.69      0.73      0.71      2470\n",
            "           1       0.83      0.80      0.81      4057\n",
            "\n",
            "    accuracy                           0.77      6527\n",
            "   macro avg       0.76      0.76      0.76      6527\n",
            "weighted avg       0.78      0.77      0.77      6527\n",
            "\n"
          ]
        }
      ]
    },
    {
      "cell_type": "code",
      "source": [
        "dt = joblib.load('decision_tree_model.joblib')\n",
        "\n",
        "#TEAM 1 KARACHI HAS TO CHASE THE TARGET\n",
        "team1 = 'Karachi Kings'\n",
        "team2 = 'Multan Sultans'\n",
        "target = 142\n",
        "cur_runs = 123\n",
        "wickets = 6.0\n",
        "overs = 18\n",
        "\n",
        "#calculate input features\n",
        "balls_left = 120 - ((overs - overs%1) * 6 + (overs%1)*10)\n",
        "runs_left = target - cur_runs\n",
        "\n",
        "#reate input data\n",
        "input_data = pd.DataFrame([[wickets, balls_left, runs_left]], columns=['wickets', 'balls_left', 'runs_left'])\n",
        "\n",
        "#make prediction\n",
        "prediction = dt.predict_proba(input_data)[:, 1]\n",
        "\n",
        "#display results\n",
        "print(f\"Interpretation: There is a {round(prediction[0] * 100)}% chance ({team2}) is going to lose [or ({team1}) is going to win] and a {round((1-prediction[0]) * 100)}% chance that ({team2}) will win.\")"
      ],
      "metadata": {
        "colab": {
          "base_uri": "https://localhost:8080/"
        },
        "id": "MSEs_8nC9lrY",
        "outputId": "1affcd27-1bb2-49fc-fddd-d45bc411024a"
      },
      "id": "MSEs_8nC9lrY",
      "execution_count": 129,
      "outputs": [
        {
          "output_type": "stream",
          "name": "stdout",
          "text": [
            "Interpretation: There is a 29% chance (Multan Sultans) is going to lose [or (Karachi Kings) is going to win] and a 71% chance that (Multan Sultans) will win.\n"
          ]
        }
      ]
    },
    {
      "cell_type": "markdown",
      "source": [
        "\n",
        "\n",
        "1. Based on the given performance metrics, the XGBoost Classifier (XGBC) and Random Forest Classifier have the highest accuracy among the models evaluated.\n",
        "\n",
        "2. Looking at the precision, recall, and F1-score for both classes, the XGBoost Classifier (XGBC) has the highest scores for the positive class (1) compared to the Random Forest Classifier, which has slightly lower scores. The XGBC model also has a higher F1-score for the negative class (0), indicating better overall performance.\n",
        "\n",
        "3. The SVM and Decision Tree models have lower accuracy and F1-scores compared to XGBC and Random Forest. The Decision Tree model also shows signs of overfitting, as it has a higher accuracy score on the training data than on the test data.\n",
        "\n",
        "4. Therefore, based on the overall evaluation of performance metrics, the XGBoost Classifier (XGBC) is the best model among the given models for the classification task at hand. It achieved the highest scores for precision, recall, and F1-score, indicating better overall performance.\n",
        "\n",
        "\n"
      ],
      "metadata": {
        "id": "2MVRmxntMM_m"
      },
      "id": "2MVRmxntMM_m"
    },
    {
      "cell_type": "code",
      "source": [],
      "metadata": {
        "id": "3RbF1CnVN21i"
      },
      "id": "3RbF1CnVN21i",
      "execution_count": null,
      "outputs": []
    }
  ],
  "metadata": {
    "kernelspec": {
      "display_name": "Python 3",
      "language": "python",
      "name": "python3"
    },
    "language_info": {
      "codemirror_mode": {
        "name": "ipython",
        "version": 3
      },
      "file_extension": ".py",
      "mimetype": "text/x-python",
      "name": "python",
      "nbconvert_exporter": "python",
      "pygments_lexer": "ipython3",
      "version": "3.7.10"
    },
    "papermill": {
      "default_parameters": {},
      "duration": 82.874845,
      "end_time": "2021-06-25T21:18:14.890788",
      "environment_variables": {},
      "exception": null,
      "input_path": "__notebook__.ipynb",
      "output_path": "__notebook__.ipynb",
      "parameters": {},
      "start_time": "2021-06-25T21:16:52.015943",
      "version": "2.3.3"
    },
    "colab": {
      "provenance": []
    }
  },
  "nbformat": 4,
  "nbformat_minor": 5
}